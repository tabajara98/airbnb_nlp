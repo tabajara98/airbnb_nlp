{
 "cells": [
  {
   "cell_type": "markdown",
   "id": "5d7873ac-3b8c-41d7-ac55-320338c39307",
   "metadata": {},
   "source": [
    "# Libraries"
   ]
  },
  {
   "cell_type": "code",
   "execution_count": 1,
   "id": "14aba5ad-2c05-41a3-acb5-9249507bab02",
   "metadata": {
    "jupyter": {
     "source_hidden": true
    }
   },
   "outputs": [],
   "source": [
    "import pandas as pd\n",
    "import numpy as np\n",
    "import os\n",
    "from sentence_transformers import SentenceTransformer, util\n",
    "import torch\n",
    "import seaborn as sns\n",
    "import matplotlib.pyplot as plt\n",
    "from sklearn.metrics.pairwise import cosine_similarity\n",
    "import pickle\n",
    "import string\n",
    "import re\n",
    "import nltk\n",
    "from nltk.stem import PorterStemmer, WordNetLemmatizer\n",
    "\n",
    "pd.set_option(\"max_colwidth\", 100)\n",
    "pd.set_option(\"max_rows\", 100) \n",
    "pd.set_option(\"precision\", 2)"
   ]
  },
  {
   "cell_type": "markdown",
   "id": "9117120d-d354-489c-a7c9-6e95f4d39f17",
   "metadata": {},
   "source": [
    "# Read"
   ]
  },
  {
   "cell_type": "markdown",
   "id": "c44c0856-d5e0-4469-bc2c-6c1bf017f9a1",
   "metadata": {},
   "source": [
    "## Listings"
   ]
  },
  {
   "cell_type": "code",
   "execution_count": 2,
   "id": "812f5479-f4e9-4a2f-83d0-84ed68283ea4",
   "metadata": {
    "tags": []
   },
   "outputs": [],
   "source": [
    "listings_folder_path = '..\\\\data\\\\raw\\\\listings'\n",
    "\n",
    "df_listings = pd.DataFrame()\n",
    "for listing_file in os.listdir(listings_folder_path):\n",
    "    listing_file_path = os.path.join(listings_folder_path,listing_file) \n",
    "    df = pd.read_csv(listing_file_path,compression='gzip')\n",
    "    df_listings = pd.concat([df,df_listings])\n",
    "    \n",
    "df_listings['amenities'] = df_listings['amenities'].apply(lambda x: eval(x))"
   ]
  },
  {
   "cell_type": "code",
   "execution_count": 3,
   "id": "d0148e8d-b27b-466d-acbc-8a5c49d02e83",
   "metadata": {},
   "outputs": [
    {
     "data": {
      "text/plain": [
       "id                                                                                                                               729949246865083342\n",
       "listing_url                                                                                         https://www.airbnb.com/rooms/729949246865083342\n",
       "scrape_id                                                                                                                            20230903194229\n",
       "last_scraped                                                                                                                             2023-09-04\n",
       "source                                                                                                                                  city scrape\n",
       "name                                                               Place to stay in Hacienda Heights · ★4.87 · 1 bedroom · 1 bed · 1.5 shared baths\n",
       "description                                     Since our airbnb is in high demand, we are providing this listing for guests to connect and book...\n",
       "neighborhood_overview                           Located in a tranquil multi-million dollar neighborhood., remote and quiet yet easily accessible...\n",
       "picture_url                                     https://a0.muscache.com/pictures/miso/Hosting-729949246865083342/original/4a18d060-458e-48b3-999...\n",
       "host_id                                                                                                                                   474389456\n",
       "host_url                                                                                                https://www.airbnb.com/users/show/474389456\n",
       "host_name                                                                                                                Evergreen Asset Management\n",
       "host_since                                                                                                                               2022-08-10\n",
       "host_location                                                                                                                                   NaN\n",
       "host_about                                                                                                                                      NaN\n",
       "host_response_time                                                                                                                   within an hour\n",
       "host_response_rate                                                                                                                              97%\n",
       "host_acceptance_rate                                                                                                                            99%\n",
       "host_is_superhost                                                                                                                                 f\n",
       "host_thumbnail_url                              https://a0.muscache.com/im/pictures/user/User-474389456/original/018207b3-ec4e-4d98-a3e0-4578b98...\n",
       "host_picture_url                                https://a0.muscache.com/im/pictures/user/User-474389456/original/018207b3-ec4e-4d98-a3e0-4578b98...\n",
       "host_neighbourhood                                                                                                                              NaN\n",
       "host_listings_count                                                                                                                              31\n",
       "host_total_listings_count                                                                                                                        85\n",
       "host_verifications                                                                                                               ['email', 'phone']\n",
       "host_has_profile_pic                                                                                                                              t\n",
       "host_identity_verified                                                                                                                            t\n",
       "neighbourhood                                                                                           Hacienda Heights, California, United States\n",
       "neighbourhood_cleansed                                                                                                             Hacienda Heights\n",
       "neighbourhood_group_cleansed                                                                                                   Unincorporated Areas\n",
       "latitude                                                                                                                                         34\n",
       "longitude                                                                                                                                  -1.2e+02\n",
       "property_type                                                                                                                           Shared room\n",
       "room_type                                                                                                                               Shared room\n",
       "accommodates                                                                                                                                      1\n",
       "bathrooms                                                                                                                                       NaN\n",
       "bathrooms_text                                                                                                                     1.5 shared baths\n",
       "bedrooms                                                                                                                                        NaN\n",
       "beds                                                                                                                                              1\n",
       "amenities                                       [Carbon monoxide alarm, Dining table, Free washer – In building, Toaster, Coffee maker: Keurig c...\n",
       "price                                                                                                                                        $39.00\n",
       "minimum_nights                                                                                                                                    1\n",
       "maximum_nights                                                                                                                                    7\n",
       "minimum_minimum_nights                                                                                                                            1\n",
       "maximum_minimum_nights                                                                                                                            1\n",
       "minimum_maximum_nights                                                                                                                         1125\n",
       "maximum_maximum_nights                                                                                                                         1125\n",
       "minimum_nights_avg_ntm                                                                                                                            1\n",
       "maximum_nights_avg_ntm                                                                                                                      1.1e+03\n",
       "calendar_updated                                                                                                                                NaN\n",
       "has_availability                                                                                                                                  t\n",
       "availability_30                                                                                                                                   3\n",
       "availability_60                                                                                                                                  33\n",
       "availability_90                                                                                                                                  63\n",
       "availability_365                                                                                                                                152\n",
       "calendar_last_scraped                                                                                                                    2023-09-04\n",
       "number_of_reviews                                                                                                                                15\n",
       "number_of_reviews_ltm                                                                                                                            15\n",
       "number_of_reviews_l30d                                                                                                                            1\n",
       "first_review                                                                                                                             2022-10-11\n",
       "last_review                                                                                                                              2023-08-21\n",
       "review_scores_rating                                                                                                                            4.9\n",
       "review_scores_accuracy                                                                                                                          4.8\n",
       "review_scores_cleanliness                                                                                                                       4.7\n",
       "review_scores_checkin                                                                                                                           4.9\n",
       "review_scores_communication                                                                                                                     4.9\n",
       "review_scores_location                                                                                                                            5\n",
       "review_scores_value                                                                                                                             4.9\n",
       "license                                                                                                                                         NaN\n",
       "instant_bookable                                                                                                                                  f\n",
       "calculated_host_listings_count                                                                                                                   18\n",
       "calculated_host_listings_count_entire_homes                                                                                                       0\n",
       "calculated_host_listings_count_private_rooms                                                                                                      7\n",
       "calculated_host_listings_count_shared_rooms                                                                                                      11\n",
       "reviews_per_month                                                                                                                               1.4\n",
       "Name: 10848, dtype: object"
      ]
     },
     "execution_count": 3,
     "metadata": {},
     "output_type": "execute_result"
    }
   ],
   "source": [
    "df_listings.loc[10848]"
   ]
  },
  {
   "cell_type": "markdown",
   "id": "a5a8078c-e095-42a2-b537-810964bf5a36",
   "metadata": {},
   "source": [
    "## Reviews"
   ]
  },
  {
   "cell_type": "code",
   "execution_count": 4,
   "id": "26cc35c1-f494-4dca-9285-5d59e288b55b",
   "metadata": {
    "jupyter": {
     "source_hidden": true
    }
   },
   "outputs": [],
   "source": [
    "reviews_folder_path = '..\\\\data\\\\raw\\\\reviews'\n",
    "\n",
    "df_reviews = pd.DataFrame()\n",
    "for review_file in os.listdir(reviews_folder_path):\n",
    "    review_file_path = os.path.join(reviews_folder_path,review_file) \n",
    "    df = pd.read_csv(review_file_path,compression='gzip')\n",
    "    df_reviews = pd.concat([df,df_reviews])"
   ]
  },
  {
   "cell_type": "markdown",
   "id": "c93faa54-303c-4a3c-98e0-05df16b25017",
   "metadata": {},
   "source": [
    "# EDA"
   ]
  },
  {
   "cell_type": "markdown",
   "id": "1dded429-4bf9-4481-b535-6a5b3ff815f1",
   "metadata": {},
   "source": [
    "## Listings"
   ]
  },
  {
   "cell_type": "markdown",
   "id": "765410a4-4d95-4d7b-943f-7d0f821fbd68",
   "metadata": {},
   "source": [
    "### Summary Statistics"
   ]
  },
  {
   "cell_type": "code",
   "execution_count": 5,
   "id": "10515082-9781-47a5-b749-740b2c6cdcb7",
   "metadata": {
    "jupyter": {
     "source_hidden": true
    },
    "tags": []
   },
   "outputs": [],
   "source": [
    "description = [\"Airbnb's unique identifier for the listing\",\n",
    "'',\n",
    "'Inside Airbnb \"Scrape\" this was part of',\n",
    "'UTC. The date and time this listing was \"scraped\".',\n",
    "'One of \"neighbourhood search\" or \"previous scrape\". \"neighbourhood search\" means that the listing was found by searching the city, while \"previous scrape\" means that the listing was seen in another scrape performed in the last 65 days, and the listing was confirmed to be still available on the Airbnb site.',\n",
    "'Name of the listing',\n",
    "'Detailed description of the listing',\n",
    "\"Host's description of the neighbourhood\",\n",
    "'URL to the Airbnb hosted regular sized image for the listing',\n",
    "\"Airbnb's unique identifier for the host/user\",\n",
    "'The Airbnb page for the host',\n",
    "'Name of the host. Usually just the first name(s).',\n",
    "'The date the host/user was created. For hosts that are Airbnb guests this could be the date they registered as a guest.',\n",
    "\"The host's self reported location\",\n",
    "'Description about the host',\n",
    "'',\n",
    "'',\n",
    "'That rate at which a host accepts booking requests.',\n",
    "'',\n",
    "'',\n",
    "'',\n",
    "'',\n",
    "'The number of listings the host has (per Airbnb calculations)',\n",
    "'The number of listings the host has (per Airbnb calculations)',\n",
    "'',\n",
    "'',\n",
    "'',\n",
    "'',\n",
    "'The neighbourhood as geocoded using the latitude and longitude against neighborhoods as defined by open or public digital shapefiles.',\n",
    "'The neighbourhood group as geocoded using the latitude and longitude against neighborhoods as defined by open or public digital shapefiles.',\n",
    "'Uses the World Geodetic System (WGS84) projection for latitude and longitude.',\n",
    "'Uses the World Geodetic System (WGS84) projection for latitude and longitude.',\n",
    "'Self selected property type. Hotels and Bed and Breakfasts are described as such by their hosts in this field',\n",
    "\"'[Entire home/apt|Private room|Shared room|Hotel]; All homes are grouped into the following three room types: Entire place, Private room, Shared room, Entire place\",\n",
    "'The maximum capacity of the listing',\n",
    "'The number of bathrooms in the listing',\n",
    "\"The number of bathrooms in the listing. On the Airbnb web-site, the bathrooms field has evolved from a number to a textual description. For older scrapes, bathrooms is used.\",\n",
    "'The number of bedrooms',\n",
    "'The number of bed(s)',\n",
    "'',\n",
    "'daily price in local currency',\n",
    "'minimum number of night stay for the listing (calendar rules may be different)',\n",
    "'maximum number of night stay for the listing (calendar rules may be different)',\n",
    "'the smallest minimum_night value from the calender (looking 365 nights in the future)',\n",
    "'the largest minimum_night value from the calender (looking 365 nights in the future)',\n",
    "'the smallest maximum_night value from the calender (looking 365 nights in the future)',\n",
    "'the largest maximum_night value from the calender (looking 365 nights in the future)',\n",
    "'the average minimum_night value from the calender (looking 365 nights in the future)',\n",
    "'the average maximum_night value from the calender (looking 365 nights in the future)',\n",
    "'',\n",
    "'[t=true; f=false]',\n",
    "'avaliability_x. The availability of the listing x days in the future as determined by the calendar. Note a listing may not be available because it has been booked by a guest or blocked by the host.',\n",
    "'avaliability_x. The availability of the listing x days in the future as determined by the calendar. Note a listing may not be available because it has been booked by a guest or blocked by the host.',\n",
    "'avaliability_x. The availability of the listing x days in the future as determined by the calendar. Note a listing may not be available because it has been booked by a guest or blocked by the host.',\n",
    "'avaliability_x. The availability of the listing x days in the future as determined by the calendar. Note a listing may not be available because it has been booked by a guest or blocked by the host.',\n",
    "'',\n",
    "'The number of reviews the listing has',\n",
    "'The number of reviews the listing has (in the last 12 months)',\n",
    "'The number of reviews the listing has (in the last 30 days)',\n",
    "'The date of the first/oldest review',\n",
    "'The date of the last/newest review',\n",
    "'Overall experience. How was it?',\n",
    "'Accuracy. Was it accurately represented with up-to-date photos and info?',\n",
    "'Cleanliness. Did the place meet our standards?',\n",
    "'Check-in. Should be easy.',\n",
    "'Communication. Did the Host respond to messages promptly?',\n",
    "'Location. Was the guest made aware of safety, transportation, points of interest, and special considerations like noise or other situations that might affect their stay?',\n",
    "'Value. Was it worth the price?',\n",
    "'The licence/permit/registration number',\n",
    "'[t=true; f=false]. Whether the guest can automatically book the listing without the host requiring to accept their booking request. An indicator of a commercial listing.',\n",
    "'The number of listings the host has in the current scrape, in the city/region geography.',\n",
    "'The number of Entire home/apt listings the host has in the current scrape, in the city/region geography',\n",
    "'The number of Private room listings the host has in the current scrape, in the city/region geography',\n",
    "'The number of Shared room listings the host has in the current scrape, in the city/region geography',\n",
    "'The number of reviews the listing has over the lifetime of the listing']\n"
   ]
  },
  {
   "cell_type": "code",
   "execution_count": 6,
   "id": "77af5555-079f-4e90-9455-6883faa01593",
   "metadata": {
    "tags": []
   },
   "outputs": [
    {
     "ename": "ValueError",
     "evalue": "cannot set using a multi-index selection indexer with a different length than the value",
     "output_type": "error",
     "traceback": [
      "\u001b[1;31m---------------------------------------------------------------------------\u001b[0m",
      "\u001b[1;31mValueError\u001b[0m                                Traceback (most recent call last)",
      "Input \u001b[1;32mIn [6]\u001b[0m, in \u001b[0;36m<cell line: 7>\u001b[1;34m()\u001b[0m\n\u001b[0;32m      5\u001b[0m general_info \u001b[38;5;241m=\u001b[39m pd\u001b[38;5;241m.\u001b[39mDataFrame(index\u001b[38;5;241m=\u001b[39mdf_listings\u001b[38;5;241m.\u001b[39mcolumns)\n\u001b[0;32m      7\u001b[0m \u001b[38;5;28;01mfor\u001b[39;00m i, col \u001b[38;5;129;01min\u001b[39;00m \u001b[38;5;28menumerate\u001b[39m(general_info\u001b[38;5;241m.\u001b[39mindex):\n\u001b[1;32m----> 8\u001b[0m     \u001b[43mgeneral_info\u001b[49m\u001b[38;5;241;43m.\u001b[39;49m\u001b[43mloc\u001b[49m\u001b[43m[\u001b[49m\u001b[43mcol\u001b[49m\u001b[43m,\u001b[49m\u001b[38;5;124;43m'\u001b[39;49m\u001b[38;5;124;43mRow 0\u001b[39;49m\u001b[38;5;124;43m'\u001b[39;49m\u001b[43m]\u001b[49m \u001b[38;5;241m=\u001b[39m df_listings\u001b[38;5;241m.\u001b[39mloc[\u001b[38;5;241m0\u001b[39m, col]\n\u001b[0;32m      9\u001b[0m     general_info\u001b[38;5;241m.\u001b[39mloc[col,\u001b[38;5;124m'\u001b[39m\u001b[38;5;124mNot Null\u001b[39m\u001b[38;5;124m'\u001b[39m] \u001b[38;5;241m=\u001b[39m non_null[col]\n\u001b[0;32m     10\u001b[0m     general_info\u001b[38;5;241m.\u001b[39mloc[col,\u001b[38;5;124m'\u001b[39m\u001b[38;5;124mData Type\u001b[39m\u001b[38;5;124m'\u001b[39m] \u001b[38;5;241m=\u001b[39m dtype[col]\n",
      "File \u001b[1;32mc:\\users\\anton\\appdata\\local\\programs\\python\\python39\\lib\\site-packages\\pandas\\core\\indexing.py:670\u001b[0m, in \u001b[0;36m_LocationIndexer.__setitem__\u001b[1;34m(self, key, value)\u001b[0m\n\u001b[0;32m    667\u001b[0m \u001b[38;5;28mself\u001b[39m\u001b[38;5;241m.\u001b[39m_has_valid_setitem_indexer(key)\n\u001b[0;32m    669\u001b[0m iloc \u001b[38;5;241m=\u001b[39m \u001b[38;5;28mself\u001b[39m \u001b[38;5;28;01mif\u001b[39;00m \u001b[38;5;28mself\u001b[39m\u001b[38;5;241m.\u001b[39mname \u001b[38;5;241m==\u001b[39m \u001b[38;5;124m\"\u001b[39m\u001b[38;5;124miloc\u001b[39m\u001b[38;5;124m\"\u001b[39m \u001b[38;5;28;01melse\u001b[39;00m \u001b[38;5;28mself\u001b[39m\u001b[38;5;241m.\u001b[39mobj\u001b[38;5;241m.\u001b[39miloc\n\u001b[1;32m--> 670\u001b[0m \u001b[43miloc\u001b[49m\u001b[38;5;241;43m.\u001b[39;49m\u001b[43m_setitem_with_indexer\u001b[49m\u001b[43m(\u001b[49m\u001b[43mindexer\u001b[49m\u001b[43m,\u001b[49m\u001b[43m \u001b[49m\u001b[43mvalue\u001b[49m\u001b[43m)\u001b[49m\n",
      "File \u001b[1;32mc:\\users\\anton\\appdata\\local\\programs\\python\\python39\\lib\\site-packages\\pandas\\core\\indexing.py:1666\u001b[0m, in \u001b[0;36m_iLocIndexer._setitem_with_indexer\u001b[1;34m(self, indexer, value)\u001b[0m\n\u001b[0;32m   1659\u001b[0m \u001b[38;5;28;01mif\u001b[39;00m \u001b[38;5;28mlen\u001b[39m(labels) \u001b[38;5;241m==\u001b[39m \u001b[38;5;241m1\u001b[39m:\n\u001b[0;32m   1660\u001b[0m     \u001b[38;5;66;03m# We can operate on a single column\u001b[39;00m\n\u001b[0;32m   1661\u001b[0m \n\u001b[0;32m   1662\u001b[0m     \u001b[38;5;66;03m# require that we are setting the right number of values that\u001b[39;00m\n\u001b[0;32m   1663\u001b[0m     \u001b[38;5;66;03m# we are indexing\u001b[39;00m\n\u001b[0;32m   1664\u001b[0m     \u001b[38;5;28;01mif\u001b[39;00m is_list_like_indexer(value) \u001b[38;5;129;01mand\u001b[39;00m \u001b[38;5;241m0\u001b[39m \u001b[38;5;241m!=\u001b[39m lplane_indexer \u001b[38;5;241m!=\u001b[39m \u001b[38;5;28mlen\u001b[39m(value):\n\u001b[0;32m   1665\u001b[0m         \u001b[38;5;66;03m# Exclude zero-len for e.g. boolean masking that is all-false\u001b[39;00m\n\u001b[1;32m-> 1666\u001b[0m         \u001b[38;5;28;01mraise\u001b[39;00m \u001b[38;5;167;01mValueError\u001b[39;00m(\n\u001b[0;32m   1667\u001b[0m             \u001b[38;5;124m\"\u001b[39m\u001b[38;5;124mcannot set using a multi-index \u001b[39m\u001b[38;5;124m\"\u001b[39m\n\u001b[0;32m   1668\u001b[0m             \u001b[38;5;124m\"\u001b[39m\u001b[38;5;124mselection indexer with a different \u001b[39m\u001b[38;5;124m\"\u001b[39m\n\u001b[0;32m   1669\u001b[0m             \u001b[38;5;124m\"\u001b[39m\u001b[38;5;124mlength than the value\u001b[39m\u001b[38;5;124m\"\u001b[39m\n\u001b[0;32m   1670\u001b[0m         )\n\u001b[0;32m   1672\u001b[0m \u001b[38;5;28;01mdef\u001b[39;00m \u001b[38;5;21misetter\u001b[39m(loc, v):\n\u001b[0;32m   1673\u001b[0m     \u001b[38;5;66;03m# positional setting on column loc\u001b[39;00m\n\u001b[0;32m   1674\u001b[0m     ser \u001b[38;5;241m=\u001b[39m \u001b[38;5;28mself\u001b[39m\u001b[38;5;241m.\u001b[39mobj\u001b[38;5;241m.\u001b[39m_ixs(loc, axis\u001b[38;5;241m=\u001b[39m\u001b[38;5;241m1\u001b[39m)\n",
      "\u001b[1;31mValueError\u001b[0m: cannot set using a multi-index selection indexer with a different length than the value"
     ]
    }
   ],
   "source": [
    "# General Info\n",
    "non_null = df_listings.notnull().sum(axis=0)\n",
    "dtype = df_listings.dtypes\n",
    "\n",
    "general_info = pd.DataFrame(index=df_listings.columns)\n",
    "\n",
    "for i, col in enumerate(general_info.index):\n",
    "    general_info.loc[col,'Row 0'] = df_listings.loc[0, col]\n",
    "    general_info.loc[col,'Not Null'] = non_null[col]\n",
    "    general_info.loc[col,'Data Type'] = dtype[col]\n",
    "    general_info.loc[col,'Description'] = description[i]\n",
    "    \n",
    "    if dtype[col] in ['int64','float64'] and 'id' not in col:\n",
    "        general_info.loc[col,'Std'] = np.std(df_listings.loc[:,col])\n",
    "        general_info.loc[col,'Mean'] = np.mean(df_listings.loc[:,col])\n",
    "        general_info.loc[col,'25%'] = df_listings.loc[:,col].quantile(0.25)\n",
    "        general_info.loc[col,'50%'] = df_listings.loc[:,col].quantile(0.5)\n",
    "        general_info.loc[col,'75%'] = df_listings.loc[:,col].quantile(0.75)\n",
    "        \n",
    "general_info.style.background_gradient(\n",
    "    cmap='Greens',subset=['Not Null']\n",
    ").background_gradient(\n",
    "    cmap='Greens',subset=['25%','50%','75%'],axis=1\n",
    ").applymap(\n",
    "    lambda x: 'color: transparent; background-color: transparent' if pd.isnull(x) else ''\n",
    ")"
   ]
  },
  {
   "cell_type": "markdown",
   "id": "e6dd7134-3076-496c-91c6-1ee0cbf33d61",
   "metadata": {},
   "source": [
    "### Most Frequent Neighbourhoods \n",
    "\n",
    "The neighbourhood as geocoded using the latitude and longitude against neighborhoods as defined by open or public digital shapefiles."
   ]
  },
  {
   "cell_type": "code",
   "execution_count": 8,
   "id": "ce0e2cb6-7082-4815-ab42-f1d430d0b920",
   "metadata": {
    "jupyter": {
     "source_hidden": true
    }
   },
   "outputs": [
    {
     "data": {
      "text/html": [
       "<style  type=\"text/css\" >\n",
       "#T_36f3d1ff_96c4_11ee_a006_046c590e48cbrow0_col0{\n",
       "            background-color:  #00441b;\n",
       "            color:  #f1f1f1;\n",
       "        }#T_36f3d1ff_96c4_11ee_a006_046c590e48cbrow1_col0{\n",
       "            background-color:  #005120;\n",
       "            color:  #f1f1f1;\n",
       "        }#T_36f3d1ff_96c4_11ee_a006_046c590e48cbrow2_col0{\n",
       "            background-color:  #00682a;\n",
       "            color:  #f1f1f1;\n",
       "        }#T_36f3d1ff_96c4_11ee_a006_046c590e48cbrow3_col0{\n",
       "            background-color:  #238b45;\n",
       "            color:  #000000;\n",
       "        }#T_36f3d1ff_96c4_11ee_a006_046c590e48cbrow4_col0{\n",
       "            background-color:  #3da65a;\n",
       "            color:  #000000;\n",
       "        }#T_36f3d1ff_96c4_11ee_a006_046c590e48cbrow5_col0{\n",
       "            background-color:  #43ac5e;\n",
       "            color:  #000000;\n",
       "        }#T_36f3d1ff_96c4_11ee_a006_046c590e48cbrow6_col0{\n",
       "            background-color:  #5ab769;\n",
       "            color:  #000000;\n",
       "        }#T_36f3d1ff_96c4_11ee_a006_046c590e48cbrow7_col0{\n",
       "            background-color:  #e3f4de;\n",
       "            color:  #000000;\n",
       "        }#T_36f3d1ff_96c4_11ee_a006_046c590e48cbrow8_col0{\n",
       "            background-color:  #ecf8e8;\n",
       "            color:  #000000;\n",
       "        }#T_36f3d1ff_96c4_11ee_a006_046c590e48cbrow9_col0{\n",
       "            background-color:  #f7fcf5;\n",
       "            color:  #000000;\n",
       "        }</style><table id=\"T_36f3d1ff_96c4_11ee_a006_046c590e48cb\" ><thead>    <tr>        <th class=\"blank\" ></th>        <th class=\"blank level0\" ></th>        <th class=\"col_heading level0 col0\" >id</th>    </tr>    <tr>        <th class=\"index_name level0\" >neighbourhood_group_cleansed</th>        <th class=\"index_name level1\" >neighbourhood_cleansed</th>        <th class=\"blank\" ></th>    </tr></thead><tbody>\n",
       "                <tr>\n",
       "                        <th id=\"T_36f3d1ff_96c4_11ee_a006_046c590e48cblevel0_row0\" class=\"row_heading level0 row0\" >City of Los Angeles</th>\n",
       "                        <th id=\"T_36f3d1ff_96c4_11ee_a006_046c590e48cblevel1_row0\" class=\"row_heading level1 row0\" >Hollywood</th>\n",
       "                        <td id=\"T_36f3d1ff_96c4_11ee_a006_046c590e48cbrow0_col0\" class=\"data row0 col0\" >1767</td>\n",
       "            </tr>\n",
       "            <tr>\n",
       "                        <th id=\"T_36f3d1ff_96c4_11ee_a006_046c590e48cblevel0_row1\" class=\"row_heading level0 row1\" >Other Cities</th>\n",
       "                        <th id=\"T_36f3d1ff_96c4_11ee_a006_046c590e48cblevel1_row1\" class=\"row_heading level1 row1\" >Long Beach</th>\n",
       "                        <td id=\"T_36f3d1ff_96c4_11ee_a006_046c590e48cbrow1_col0\" class=\"data row1 col0\" >1721</td>\n",
       "            </tr>\n",
       "            <tr>\n",
       "                        <th id=\"T_36f3d1ff_96c4_11ee_a006_046c590e48cblevel0_row2\" class=\"row_heading level0 row2\" >City of Los Angeles</th>\n",
       "                        <th id=\"T_36f3d1ff_96c4_11ee_a006_046c590e48cblevel1_row2\" class=\"row_heading level1 row2\" >Venice</th>\n",
       "                        <td id=\"T_36f3d1ff_96c4_11ee_a006_046c590e48cbrow2_col0\" class=\"data row2 col0\" >1647</td>\n",
       "            </tr>\n",
       "            <tr>\n",
       "                        <th id=\"T_36f3d1ff_96c4_11ee_a006_046c590e48cblevel0_row3\" class=\"row_heading level0 row3\" rowspan=3>Other Cities</th>\n",
       "                        <th id=\"T_36f3d1ff_96c4_11ee_a006_046c590e48cblevel1_row3\" class=\"row_heading level1 row3\" >Beverly Hills</th>\n",
       "                        <td id=\"T_36f3d1ff_96c4_11ee_a006_046c590e48cbrow3_col0\" class=\"data row3 col0\" >1494</td>\n",
       "            </tr>\n",
       "            <tr>\n",
       "                                <th id=\"T_36f3d1ff_96c4_11ee_a006_046c590e48cblevel1_row4\" class=\"row_heading level1 row4\" >West Hollywood</th>\n",
       "                        <td id=\"T_36f3d1ff_96c4_11ee_a006_046c590e48cbrow4_col0\" class=\"data row4 col0\" >1378</td>\n",
       "            </tr>\n",
       "            <tr>\n",
       "                                <th id=\"T_36f3d1ff_96c4_11ee_a006_046c590e48cblevel1_row5\" class=\"row_heading level1 row5\" >Santa Monica</th>\n",
       "                        <td id=\"T_36f3d1ff_96c4_11ee_a006_046c590e48cbrow5_col0\" class=\"data row5 col0\" >1353</td>\n",
       "            </tr>\n",
       "            <tr>\n",
       "                        <th id=\"T_36f3d1ff_96c4_11ee_a006_046c590e48cblevel0_row6\" class=\"row_heading level0 row6\" >City of Los Angeles</th>\n",
       "                        <th id=\"T_36f3d1ff_96c4_11ee_a006_046c590e48cblevel1_row6\" class=\"row_heading level1 row6\" >Downtown</th>\n",
       "                        <td id=\"T_36f3d1ff_96c4_11ee_a006_046c590e48cbrow6_col0\" class=\"data row6 col0\" >1293</td>\n",
       "            </tr>\n",
       "            <tr>\n",
       "                        <th id=\"T_36f3d1ff_96c4_11ee_a006_046c590e48cblevel0_row7\" class=\"row_heading level0 row7\" >Other Cities</th>\n",
       "                        <th id=\"T_36f3d1ff_96c4_11ee_a006_046c590e48cblevel1_row7\" class=\"row_heading level1 row7\" >Glendale</th>\n",
       "                        <td id=\"T_36f3d1ff_96c4_11ee_a006_046c590e48cbrow7_col0\" class=\"data row7 col0\" >825</td>\n",
       "            </tr>\n",
       "            <tr>\n",
       "                        <th id=\"T_36f3d1ff_96c4_11ee_a006_046c590e48cblevel0_row8\" class=\"row_heading level0 row8\" >City of Los Angeles</th>\n",
       "                        <th id=\"T_36f3d1ff_96c4_11ee_a006_046c590e48cblevel1_row8\" class=\"row_heading level1 row8\" >Hollywood Hills</th>\n",
       "                        <td id=\"T_36f3d1ff_96c4_11ee_a006_046c590e48cbrow8_col0\" class=\"data row8 col0\" >766</td>\n",
       "            </tr>\n",
       "            <tr>\n",
       "                        <th id=\"T_36f3d1ff_96c4_11ee_a006_046c590e48cblevel0_row9\" class=\"row_heading level0 row9\" >Other Cities</th>\n",
       "                        <th id=\"T_36f3d1ff_96c4_11ee_a006_046c590e48cblevel1_row9\" class=\"row_heading level1 row9\" >Pasadena</th>\n",
       "                        <td id=\"T_36f3d1ff_96c4_11ee_a006_046c590e48cbrow9_col0\" class=\"data row9 col0\" >679</td>\n",
       "            </tr>\n",
       "    </tbody></table>"
      ],
      "text/plain": [
       "<pandas.io.formats.style.Styler at 0x28923081940>"
      ]
     },
     "execution_count": 8,
     "metadata": {},
     "output_type": "execute_result"
    }
   ],
   "source": [
    "df_listings.groupby(['neighbourhood_group_cleansed','neighbourhood_cleansed'])[['id']].count().sort_values('id',ascending=False)[:10].style.background_gradient(cmap='Greens')"
   ]
  },
  {
   "cell_type": "markdown",
   "id": "40ed5fd0-eee3-41ee-b50e-8861ef5ed77d",
   "metadata": {},
   "source": [
    "### Most Frequent Room Types"
   ]
  },
  {
   "cell_type": "code",
   "execution_count": 9,
   "id": "595eb378-f07c-4cb9-8d13-b016c00a7d24",
   "metadata": {
    "jupyter": {
     "source_hidden": true
    }
   },
   "outputs": [
    {
     "data": {
      "text/html": [
       "<style  type=\"text/css\" >\n",
       "#T_36fbfdf4_96c4_11ee_992f_046c590e48cbrow0_col0{\n",
       "            background-color:  #00441b;\n",
       "            color:  #f1f1f1;\n",
       "        }#T_36fbfdf4_96c4_11ee_992f_046c590e48cbrow1_col0{\n",
       "            background-color:  #afdfa8;\n",
       "            color:  #000000;\n",
       "        }#T_36fbfdf4_96c4_11ee_992f_046c590e48cbrow2_col0{\n",
       "            background-color:  #f4fbf2;\n",
       "            color:  #000000;\n",
       "        }#T_36fbfdf4_96c4_11ee_992f_046c590e48cbrow3_col0{\n",
       "            background-color:  #f7fcf5;\n",
       "            color:  #000000;\n",
       "        }</style><table id=\"T_36fbfdf4_96c4_11ee_992f_046c590e48cb\" ><thead>    <tr>        <th class=\"blank level0\" ></th>        <th class=\"col_heading level0 col0\" >id</th>    </tr>    <tr>        <th class=\"index_name level0\" >room_type</th>        <th class=\"blank\" ></th>    </tr></thead><tbody>\n",
       "                <tr>\n",
       "                        <th id=\"T_36fbfdf4_96c4_11ee_992f_046c590e48cblevel0_row0\" class=\"row_heading level0 row0\" >Entire home/apt</th>\n",
       "                        <td id=\"T_36fbfdf4_96c4_11ee_992f_046c590e48cbrow0_col0\" class=\"data row0 col0\" >32863</td>\n",
       "            </tr>\n",
       "            <tr>\n",
       "                        <th id=\"T_36fbfdf4_96c4_11ee_992f_046c590e48cblevel0_row1\" class=\"row_heading level0 row1\" >Private room</th>\n",
       "                        <td id=\"T_36fbfdf4_96c4_11ee_992f_046c590e48cbrow1_col0\" class=\"data row1 col0\" >10906</td>\n",
       "            </tr>\n",
       "            <tr>\n",
       "                        <th id=\"T_36fbfdf4_96c4_11ee_992f_046c590e48cblevel0_row2\" class=\"row_heading level0 row2\" >Shared room</th>\n",
       "                        <td id=\"T_36fbfdf4_96c4_11ee_992f_046c590e48cbrow2_col0\" class=\"data row2 col0\" >755</td>\n",
       "            </tr>\n",
       "            <tr>\n",
       "                        <th id=\"T_36fbfdf4_96c4_11ee_992f_046c590e48cblevel0_row3\" class=\"row_heading level0 row3\" >Hotel room</th>\n",
       "                        <td id=\"T_36fbfdf4_96c4_11ee_992f_046c590e48cbrow3_col0\" class=\"data row3 col0\" >70</td>\n",
       "            </tr>\n",
       "    </tbody></table>"
      ],
      "text/plain": [
       "<pandas.io.formats.style.Styler at 0x28931df20d0>"
      ]
     },
     "execution_count": 9,
     "metadata": {},
     "output_type": "execute_result"
    }
   ],
   "source": [
    "df_listings.groupby(['room_type'])[['id']].count().sort_values('id',ascending=False)[:10].style.background_gradient(cmap='Greens')"
   ]
  },
  {
   "cell_type": "markdown",
   "id": "df0aaab5-3c42-4ebf-b26d-cbdc6eee4bfa",
   "metadata": {},
   "source": [
    "### No. of People Accomodates"
   ]
  },
  {
   "cell_type": "code",
   "execution_count": 10,
   "id": "0bb4d8f1-fdb6-499e-b2b7-1816d6e967c1",
   "metadata": {
    "jupyter": {
     "source_hidden": true
    }
   },
   "outputs": [
    {
     "data": {
      "text/html": [
       "<style  type=\"text/css\" >\n",
       "#T_3703958f_96c4_11ee_8479_046c590e48cbrow0_col0,#T_3703958f_96c4_11ee_8479_046c590e48cbrow0_col1,#T_3703958f_96c4_11ee_8479_046c590e48cbrow5_col0,#T_3703958f_96c4_11ee_8479_046c590e48cbrow5_col1{\n",
       "            background-color:  #bce4b5;\n",
       "            color:  #000000;\n",
       "        }#T_3703958f_96c4_11ee_8479_046c590e48cbrow0_col2,#T_3703958f_96c4_11ee_8479_046c590e48cbrow12_col0,#T_3703958f_96c4_11ee_8479_046c590e48cbrow12_col1,#T_3703958f_96c4_11ee_8479_046c590e48cbrow14_col0,#T_3703958f_96c4_11ee_8479_046c590e48cbrow14_col1{\n",
       "            background-color:  #f7fcf5;\n",
       "            color:  #000000;\n",
       "        }#T_3703958f_96c4_11ee_8479_046c590e48cbrow1_col0,#T_3703958f_96c4_11ee_8479_046c590e48cbrow1_col1,#T_3703958f_96c4_11ee_8479_046c590e48cbrow15_col2{\n",
       "            background-color:  #00441b;\n",
       "            color:  #f1f1f1;\n",
       "        }#T_3703958f_96c4_11ee_8479_046c590e48cbrow1_col2{\n",
       "            background-color:  #9cd797;\n",
       "            color:  #000000;\n",
       "        }#T_3703958f_96c4_11ee_8479_046c590e48cbrow2_col0,#T_3703958f_96c4_11ee_8479_046c590e48cbrow2_col1{\n",
       "            background-color:  #ceecc8;\n",
       "            color:  #000000;\n",
       "        }#T_3703958f_96c4_11ee_8479_046c590e48cbrow2_col2{\n",
       "            background-color:  #7cc87c;\n",
       "            color:  #000000;\n",
       "        }#T_3703958f_96c4_11ee_8479_046c590e48cbrow3_col0,#T_3703958f_96c4_11ee_8479_046c590e48cbrow3_col1{\n",
       "            background-color:  #72c375;\n",
       "            color:  #000000;\n",
       "        }#T_3703958f_96c4_11ee_8479_046c590e48cbrow3_col2{\n",
       "            background-color:  #359e53;\n",
       "            color:  #000000;\n",
       "        }#T_3703958f_96c4_11ee_8479_046c590e48cbrow4_col0,#T_3703958f_96c4_11ee_8479_046c590e48cbrow4_col1{\n",
       "            background-color:  #e2f4dd;\n",
       "            color:  #000000;\n",
       "        }#T_3703958f_96c4_11ee_8479_046c590e48cbrow4_col2{\n",
       "            background-color:  #289049;\n",
       "            color:  #000000;\n",
       "        }#T_3703958f_96c4_11ee_8479_046c590e48cbrow5_col2{\n",
       "            background-color:  #097532;\n",
       "            color:  #f1f1f1;\n",
       "        }#T_3703958f_96c4_11ee_8479_046c590e48cbrow6_col0,#T_3703958f_96c4_11ee_8479_046c590e48cbrow6_col1{\n",
       "            background-color:  #f0f9ed;\n",
       "            color:  #000000;\n",
       "        }#T_3703958f_96c4_11ee_8479_046c590e48cbrow6_col2{\n",
       "            background-color:  #026f2e;\n",
       "            color:  #f1f1f1;\n",
       "        }#T_3703958f_96c4_11ee_8479_046c590e48cbrow7_col0,#T_3703958f_96c4_11ee_8479_046c590e48cbrow7_col1{\n",
       "            background-color:  #dcf2d7;\n",
       "            color:  #000000;\n",
       "        }#T_3703958f_96c4_11ee_8479_046c590e48cbrow7_col2{\n",
       "            background-color:  #005b25;\n",
       "            color:  #f1f1f1;\n",
       "        }#T_3703958f_96c4_11ee_8479_046c590e48cbrow8_col0,#T_3703958f_96c4_11ee_8479_046c590e48cbrow8_col1{\n",
       "            background-color:  #f5fbf3;\n",
       "            color:  #000000;\n",
       "        }#T_3703958f_96c4_11ee_8479_046c590e48cbrow8_col2{\n",
       "            background-color:  #005924;\n",
       "            color:  #f1f1f1;\n",
       "        }#T_3703958f_96c4_11ee_8479_046c590e48cbrow9_col0,#T_3703958f_96c4_11ee_8479_046c590e48cbrow9_col1{\n",
       "            background-color:  #ecf8e8;\n",
       "            color:  #000000;\n",
       "        }#T_3703958f_96c4_11ee_8479_046c590e48cbrow9_col2{\n",
       "            background-color:  #004e1f;\n",
       "            color:  #f1f1f1;\n",
       "        }#T_3703958f_96c4_11ee_8479_046c590e48cbrow10_col0,#T_3703958f_96c4_11ee_8479_046c590e48cbrow10_col1,#T_3703958f_96c4_11ee_8479_046c590e48cbrow13_col0,#T_3703958f_96c4_11ee_8479_046c590e48cbrow13_col1{\n",
       "            background-color:  #f6fcf4;\n",
       "            color:  #000000;\n",
       "        }#T_3703958f_96c4_11ee_8479_046c590e48cbrow10_col2{\n",
       "            background-color:  #004d1f;\n",
       "            color:  #f1f1f1;\n",
       "        }#T_3703958f_96c4_11ee_8479_046c590e48cbrow11_col0,#T_3703958f_96c4_11ee_8479_046c590e48cbrow11_col1{\n",
       "            background-color:  #f3faf0;\n",
       "            color:  #000000;\n",
       "        }#T_3703958f_96c4_11ee_8479_046c590e48cbrow11_col2,#T_3703958f_96c4_11ee_8479_046c590e48cbrow12_col2{\n",
       "            background-color:  #00491d;\n",
       "            color:  #f1f1f1;\n",
       "        }#T_3703958f_96c4_11ee_8479_046c590e48cbrow13_col2,#T_3703958f_96c4_11ee_8479_046c590e48cbrow14_col2{\n",
       "            background-color:  #00471c;\n",
       "            color:  #f1f1f1;\n",
       "        }#T_3703958f_96c4_11ee_8479_046c590e48cbrow15_col0,#T_3703958f_96c4_11ee_8479_046c590e48cbrow15_col1{\n",
       "            background-color:  #f5fbf2;\n",
       "            color:  #000000;\n",
       "        }</style><table id=\"T_3703958f_96c4_11ee_8479_046c590e48cb\" ><thead>    <tr>        <th class=\"blank level0\" ></th>        <th class=\"col_heading level0 col0\" >Properties</th>        <th class=\"col_heading level0 col1\" >Percentage</th>        <th class=\"col_heading level0 col2\" >Cumulative Percentage</th>    </tr>    <tr>        <th class=\"index_name level0\" >Accomodates</th>        <th class=\"blank\" ></th>        <th class=\"blank\" ></th>        <th class=\"blank\" ></th>    </tr></thead><tbody>\n",
       "                <tr>\n",
       "                        <th id=\"T_3703958f_96c4_11ee_8479_046c590e48cblevel0_row0\" class=\"row_heading level0 row0\" >1</th>\n",
       "                        <td id=\"T_3703958f_96c4_11ee_8479_046c590e48cbrow0_col0\" class=\"data row0 col0\" >4546</td>\n",
       "                        <td id=\"T_3703958f_96c4_11ee_8479_046c590e48cbrow0_col1\" class=\"data row0 col1\" >10.19</td>\n",
       "                        <td id=\"T_3703958f_96c4_11ee_8479_046c590e48cbrow0_col2\" class=\"data row0 col2\" >10.19</td>\n",
       "            </tr>\n",
       "            <tr>\n",
       "                        <th id=\"T_3703958f_96c4_11ee_8479_046c590e48cblevel0_row1\" class=\"row_heading level0 row1\" >2</th>\n",
       "                        <td id=\"T_3703958f_96c4_11ee_8479_046c590e48cbrow1_col0\" class=\"data row1 col0\" >15629</td>\n",
       "                        <td id=\"T_3703958f_96c4_11ee_8479_046c590e48cbrow1_col1\" class=\"data row1 col1\" >35.05</td>\n",
       "                        <td id=\"T_3703958f_96c4_11ee_8479_046c590e48cbrow1_col2\" class=\"data row1 col2\" >45.24</td>\n",
       "            </tr>\n",
       "            <tr>\n",
       "                        <th id=\"T_3703958f_96c4_11ee_8479_046c590e48cblevel0_row2\" class=\"row_heading level0 row2\" >3</th>\n",
       "                        <td id=\"T_3703958f_96c4_11ee_8479_046c590e48cbrow2_col0\" class=\"data row2 col0\" >3469</td>\n",
       "                        <td id=\"T_3703958f_96c4_11ee_8479_046c590e48cbrow2_col1\" class=\"data row2 col1\" >7.78</td>\n",
       "                        <td id=\"T_3703958f_96c4_11ee_8479_046c590e48cbrow2_col2\" class=\"data row2 col2\" >53.02</td>\n",
       "            </tr>\n",
       "            <tr>\n",
       "                        <th id=\"T_3703958f_96c4_11ee_8479_046c590e48cblevel0_row3\" class=\"row_heading level0 row3\" >4</th>\n",
       "                        <td id=\"T_3703958f_96c4_11ee_8479_046c590e48cbrow3_col0\" class=\"data row3 col0\" >7916</td>\n",
       "                        <td id=\"T_3703958f_96c4_11ee_8479_046c590e48cbrow3_col1\" class=\"data row3 col1\" >17.75</td>\n",
       "                        <td id=\"T_3703958f_96c4_11ee_8479_046c590e48cbrow3_col2\" class=\"data row3 col2\" >70.77</td>\n",
       "            </tr>\n",
       "            <tr>\n",
       "                        <th id=\"T_3703958f_96c4_11ee_8479_046c590e48cblevel0_row4\" class=\"row_heading level0 row4\" >5</th>\n",
       "                        <td id=\"T_3703958f_96c4_11ee_8479_046c590e48cbrow4_col0\" class=\"data row4 col0\" >2212</td>\n",
       "                        <td id=\"T_3703958f_96c4_11ee_8479_046c590e48cbrow4_col1\" class=\"data row4 col1\" >4.96</td>\n",
       "                        <td id=\"T_3703958f_96c4_11ee_8479_046c590e48cbrow4_col2\" class=\"data row4 col2\" >75.73</td>\n",
       "            </tr>\n",
       "            <tr>\n",
       "                        <th id=\"T_3703958f_96c4_11ee_8479_046c590e48cblevel0_row5\" class=\"row_heading level0 row5\" >6</th>\n",
       "                        <td id=\"T_3703958f_96c4_11ee_8479_046c590e48cbrow5_col0\" class=\"data row5 col0\" >4534</td>\n",
       "                        <td id=\"T_3703958f_96c4_11ee_8479_046c590e48cbrow5_col1\" class=\"data row5 col1\" >10.17</td>\n",
       "                        <td id=\"T_3703958f_96c4_11ee_8479_046c590e48cbrow5_col2\" class=\"data row5 col2\" >85.90</td>\n",
       "            </tr>\n",
       "            <tr>\n",
       "                        <th id=\"T_3703958f_96c4_11ee_8479_046c590e48cblevel0_row6\" class=\"row_heading level0 row6\" >7</th>\n",
       "                        <td id=\"T_3703958f_96c4_11ee_8479_046c590e48cbrow6_col0\" class=\"data row6 col0\" >818</td>\n",
       "                        <td id=\"T_3703958f_96c4_11ee_8479_046c590e48cbrow6_col1\" class=\"data row6 col1\" >1.83</td>\n",
       "                        <td id=\"T_3703958f_96c4_11ee_8479_046c590e48cbrow6_col2\" class=\"data row6 col2\" >87.73</td>\n",
       "            </tr>\n",
       "            <tr>\n",
       "                        <th id=\"T_3703958f_96c4_11ee_8479_046c590e48cblevel0_row7\" class=\"row_heading level0 row7\" >8</th>\n",
       "                        <td id=\"T_3703958f_96c4_11ee_8479_046c590e48cbrow7_col0\" class=\"data row7 col0\" >2608</td>\n",
       "                        <td id=\"T_3703958f_96c4_11ee_8479_046c590e48cbrow7_col1\" class=\"data row7 col1\" >5.85</td>\n",
       "                        <td id=\"T_3703958f_96c4_11ee_8479_046c590e48cbrow7_col2\" class=\"data row7 col2\" >93.58</td>\n",
       "            </tr>\n",
       "            <tr>\n",
       "                        <th id=\"T_3703958f_96c4_11ee_8479_046c590e48cblevel0_row8\" class=\"row_heading level0 row8\" >9</th>\n",
       "                        <td id=\"T_3703958f_96c4_11ee_8479_046c590e48cbrow8_col0\" class=\"data row8 col0\" >297</td>\n",
       "                        <td id=\"T_3703958f_96c4_11ee_8479_046c590e48cbrow8_col1\" class=\"data row8 col1\" >0.67</td>\n",
       "                        <td id=\"T_3703958f_96c4_11ee_8479_046c590e48cbrow8_col2\" class=\"data row8 col2\" >94.25</td>\n",
       "            </tr>\n",
       "            <tr>\n",
       "                        <th id=\"T_3703958f_96c4_11ee_8479_046c590e48cblevel0_row9\" class=\"row_heading level0 row9\" >10</th>\n",
       "                        <td id=\"T_3703958f_96c4_11ee_8479_046c590e48cbrow9_col0\" class=\"data row9 col0\" >1217</td>\n",
       "                        <td id=\"T_3703958f_96c4_11ee_8479_046c590e48cbrow9_col1\" class=\"data row9 col1\" >2.73</td>\n",
       "                        <td id=\"T_3703958f_96c4_11ee_8479_046c590e48cbrow9_col2\" class=\"data row9 col2\" >96.98</td>\n",
       "            </tr>\n",
       "            <tr>\n",
       "                        <th id=\"T_3703958f_96c4_11ee_8479_046c590e48cblevel0_row10\" class=\"row_heading level0 row10\" >11</th>\n",
       "                        <td id=\"T_3703958f_96c4_11ee_8479_046c590e48cbrow10_col0\" class=\"data row10 col0\" >115</td>\n",
       "                        <td id=\"T_3703958f_96c4_11ee_8479_046c590e48cbrow10_col1\" class=\"data row10 col1\" >0.26</td>\n",
       "                        <td id=\"T_3703958f_96c4_11ee_8479_046c590e48cbrow10_col2\" class=\"data row10 col2\" >97.24</td>\n",
       "            </tr>\n",
       "            <tr>\n",
       "                        <th id=\"T_3703958f_96c4_11ee_8479_046c590e48cblevel0_row11\" class=\"row_heading level0 row11\" >12</th>\n",
       "                        <td id=\"T_3703958f_96c4_11ee_8479_046c590e48cbrow11_col0\" class=\"data row11 col0\" >538</td>\n",
       "                        <td id=\"T_3703958f_96c4_11ee_8479_046c590e48cbrow11_col1\" class=\"data row11 col1\" >1.21</td>\n",
       "                        <td id=\"T_3703958f_96c4_11ee_8479_046c590e48cbrow11_col2\" class=\"data row11 col2\" >98.44</td>\n",
       "            </tr>\n",
       "            <tr>\n",
       "                        <th id=\"T_3703958f_96c4_11ee_8479_046c590e48cblevel0_row12\" class=\"row_heading level0 row12\" >13</th>\n",
       "                        <td id=\"T_3703958f_96c4_11ee_8479_046c590e48cbrow12_col0\" class=\"data row12 col0\" >68</td>\n",
       "                        <td id=\"T_3703958f_96c4_11ee_8479_046c590e48cbrow12_col1\" class=\"data row12 col1\" >0.15</td>\n",
       "                        <td id=\"T_3703958f_96c4_11ee_8479_046c590e48cbrow12_col2\" class=\"data row12 col2\" >98.59</td>\n",
       "            </tr>\n",
       "            <tr>\n",
       "                        <th id=\"T_3703958f_96c4_11ee_8479_046c590e48cblevel0_row13\" class=\"row_heading level0 row13\" >14</th>\n",
       "                        <td id=\"T_3703958f_96c4_11ee_8479_046c590e48cbrow13_col0\" class=\"data row13 col0\" >219</td>\n",
       "                        <td id=\"T_3703958f_96c4_11ee_8479_046c590e48cbrow13_col1\" class=\"data row13 col1\" >0.49</td>\n",
       "                        <td id=\"T_3703958f_96c4_11ee_8479_046c590e48cbrow13_col2\" class=\"data row13 col2\" >99.09</td>\n",
       "            </tr>\n",
       "            <tr>\n",
       "                        <th id=\"T_3703958f_96c4_11ee_8479_046c590e48cblevel0_row14\" class=\"row_heading level0 row14\" >15</th>\n",
       "                        <td id=\"T_3703958f_96c4_11ee_8479_046c590e48cbrow14_col0\" class=\"data row14 col0\" >54</td>\n",
       "                        <td id=\"T_3703958f_96c4_11ee_8479_046c590e48cbrow14_col1\" class=\"data row14 col1\" >0.12</td>\n",
       "                        <td id=\"T_3703958f_96c4_11ee_8479_046c590e48cbrow14_col2\" class=\"data row14 col2\" >99.21</td>\n",
       "            </tr>\n",
       "            <tr>\n",
       "                        <th id=\"T_3703958f_96c4_11ee_8479_046c590e48cblevel0_row15\" class=\"row_heading level0 row15\" >16</th>\n",
       "                        <td id=\"T_3703958f_96c4_11ee_8479_046c590e48cbrow15_col0\" class=\"data row15 col0\" >354</td>\n",
       "                        <td id=\"T_3703958f_96c4_11ee_8479_046c590e48cbrow15_col1\" class=\"data row15 col1\" >0.79</td>\n",
       "                        <td id=\"T_3703958f_96c4_11ee_8479_046c590e48cbrow15_col2\" class=\"data row15 col2\" >100.00</td>\n",
       "            </tr>\n",
       "    </tbody></table>"
      ],
      "text/plain": [
       "<pandas.io.formats.style.Styler at 0x2892af4e2b0>"
      ]
     },
     "execution_count": 10,
     "metadata": {},
     "output_type": "execute_result"
    }
   ],
   "source": [
    "df_no_accomodates = df_listings.groupby(['accommodates'])[['id']].count().rename(columns={'id':'Properties'})\n",
    "df_no_accomodates['Percentage'] = (df_no_accomodates['Properties']/df_no_accomodates['Properties'].sum())*100\n",
    "df_no_accomodates['Cumulative Percentage'] = df_no_accomodates['Percentage'].cumsum()\n",
    "df_no_accomodates.index.name = 'Accomodates'\n",
    "\n",
    "df_no_accomodates.style.background_gradient(cmap='Greens')"
   ]
  },
  {
   "cell_type": "code",
   "execution_count": 11,
   "id": "0ef2c7df-4dab-4e15-9a77-84b800cd63e0",
   "metadata": {
    "tags": []
   },
   "outputs": [],
   "source": [
    "## 50% of properties accomodate 3 or less people\n",
    "## Even numbers are more frequent than odd; each room generally accomodates 2 people"
   ]
  },
  {
   "cell_type": "markdown",
   "id": "80a31f6e-2adf-45f3-9c0d-beb430e94a44",
   "metadata": {},
   "source": [
    "### No. of Bedrooms"
   ]
  },
  {
   "cell_type": "code",
   "execution_count": 12,
   "id": "91a33f77-b3eb-4784-bf96-5fea0a516d95",
   "metadata": {
    "jupyter": {
     "source_hidden": true
    }
   },
   "outputs": [
    {
     "data": {
      "text/html": [
       "<style  type=\"text/css\" >\n",
       "#T_370b0dab_96c4_11ee_8425_046c590e48cbrow0_col0{\n",
       "            background-color:  #00441b;\n",
       "            color:  #f1f1f1;\n",
       "        }#T_370b0dab_96c4_11ee_8425_046c590e48cbrow1_col0{\n",
       "            background-color:  #4bb062;\n",
       "            color:  #000000;\n",
       "        }#T_370b0dab_96c4_11ee_8425_046c590e48cbrow2_col0{\n",
       "            background-color:  #a5db9f;\n",
       "            color:  #000000;\n",
       "        }#T_370b0dab_96c4_11ee_8425_046c590e48cbrow3_col0{\n",
       "            background-color:  #d9f0d3;\n",
       "            color:  #000000;\n",
       "        }#T_370b0dab_96c4_11ee_8425_046c590e48cbrow4_col0{\n",
       "            background-color:  #edf8e9;\n",
       "            color:  #000000;\n",
       "        }#T_370b0dab_96c4_11ee_8425_046c590e48cbrow5_col0{\n",
       "            background-color:  #f4fbf2;\n",
       "            color:  #000000;\n",
       "        }#T_370b0dab_96c4_11ee_8425_046c590e48cbrow6_col0{\n",
       "            background-color:  #f6fcf4;\n",
       "            color:  #000000;\n",
       "        }#T_370b0dab_96c4_11ee_8425_046c590e48cbrow7_col0,#T_370b0dab_96c4_11ee_8425_046c590e48cbrow8_col0,#T_370b0dab_96c4_11ee_8425_046c590e48cbrow9_col0{\n",
       "            background-color:  #f7fcf5;\n",
       "            color:  #000000;\n",
       "        }</style><table id=\"T_370b0dab_96c4_11ee_8425_046c590e48cb\" ><thead>    <tr>        <th class=\"blank level0\" ></th>        <th class=\"col_heading level0 col0\" >id</th>    </tr>    <tr>        <th class=\"index_name level0\" >bedrooms</th>        <th class=\"blank\" ></th>    </tr></thead><tbody>\n",
       "                <tr>\n",
       "                        <th id=\"T_370b0dab_96c4_11ee_8425_046c590e48cblevel0_row0\" class=\"row_heading level0 row0\" >1.0</th>\n",
       "                        <td id=\"T_370b0dab_96c4_11ee_8425_046c590e48cbrow0_col0\" class=\"data row0 col0\" >13872</td>\n",
       "            </tr>\n",
       "            <tr>\n",
       "                        <th id=\"T_370b0dab_96c4_11ee_8425_046c590e48cblevel0_row1\" class=\"row_heading level0 row1\" >2.0</th>\n",
       "                        <td id=\"T_370b0dab_96c4_11ee_8425_046c590e48cbrow1_col0\" class=\"data row1 col0\" >8313</td>\n",
       "            </tr>\n",
       "            <tr>\n",
       "                        <th id=\"T_370b0dab_96c4_11ee_8425_046c590e48cblevel0_row2\" class=\"row_heading level0 row2\" >3.0</th>\n",
       "                        <td id=\"T_370b0dab_96c4_11ee_8425_046c590e48cbrow2_col0\" class=\"data row2 col0\" >5008</td>\n",
       "            </tr>\n",
       "            <tr>\n",
       "                        <th id=\"T_370b0dab_96c4_11ee_8425_046c590e48cblevel0_row3\" class=\"row_heading level0 row3\" >4.0</th>\n",
       "                        <td id=\"T_370b0dab_96c4_11ee_8425_046c590e48cbrow3_col0\" class=\"data row3 col0\" >2494</td>\n",
       "            </tr>\n",
       "            <tr>\n",
       "                        <th id=\"T_370b0dab_96c4_11ee_8425_046c590e48cblevel0_row4\" class=\"row_heading level0 row4\" >5.0</th>\n",
       "                        <td id=\"T_370b0dab_96c4_11ee_8425_046c590e48cbrow4_col0\" class=\"data row4 col0\" >1008</td>\n",
       "            </tr>\n",
       "            <tr>\n",
       "                        <th id=\"T_370b0dab_96c4_11ee_8425_046c590e48cblevel0_row5\" class=\"row_heading level0 row5\" >6.0</th>\n",
       "                        <td id=\"T_370b0dab_96c4_11ee_8425_046c590e48cbrow5_col0\" class=\"data row5 col0\" >334</td>\n",
       "            </tr>\n",
       "            <tr>\n",
       "                        <th id=\"T_370b0dab_96c4_11ee_8425_046c590e48cblevel0_row6\" class=\"row_heading level0 row6\" >7.0</th>\n",
       "                        <td id=\"T_370b0dab_96c4_11ee_8425_046c590e48cbrow6_col0\" class=\"data row6 col0\" >124</td>\n",
       "            </tr>\n",
       "            <tr>\n",
       "                        <th id=\"T_370b0dab_96c4_11ee_8425_046c590e48cblevel0_row7\" class=\"row_heading level0 row7\" >8.0</th>\n",
       "                        <td id=\"T_370b0dab_96c4_11ee_8425_046c590e48cbrow7_col0\" class=\"data row7 col0\" >40</td>\n",
       "            </tr>\n",
       "            <tr>\n",
       "                        <th id=\"T_370b0dab_96c4_11ee_8425_046c590e48cblevel0_row8\" class=\"row_heading level0 row8\" >9.0</th>\n",
       "                        <td id=\"T_370b0dab_96c4_11ee_8425_046c590e48cbrow8_col0\" class=\"data row8 col0\" >20</td>\n",
       "            </tr>\n",
       "            <tr>\n",
       "                        <th id=\"T_370b0dab_96c4_11ee_8425_046c590e48cblevel0_row9\" class=\"row_heading level0 row9\" >10.0</th>\n",
       "                        <td id=\"T_370b0dab_96c4_11ee_8425_046c590e48cbrow9_col0\" class=\"data row9 col0\" >12</td>\n",
       "            </tr>\n",
       "    </tbody></table>"
      ],
      "text/plain": [
       "<pandas.io.formats.style.Styler at 0x2892af4e160>"
      ]
     },
     "execution_count": 12,
     "metadata": {},
     "output_type": "execute_result"
    }
   ],
   "source": [
    "df_listings.groupby(['bedrooms'])[['id']].count().sort_values('id',ascending=False)[:10].style.background_gradient(cmap='Greens')"
   ]
  },
  {
   "cell_type": "markdown",
   "id": "ddda055e-1500-484a-9e42-c4f65ea58cb0",
   "metadata": {},
   "source": [
    "### No. of Reviews"
   ]
  },
  {
   "cell_type": "code",
   "execution_count": 64,
   "id": "58152641-7b35-41e8-ba9a-068ad8fb16ab",
   "metadata": {
    "tags": []
   },
   "outputs": [
    {
     "name": "stderr",
     "output_type": "stream",
     "text": [
      "C:\\Users\\anton\\AppData\\Local\\Temp\\ipykernel_17360\\1515493025.py:2: SettingWithCopyWarning: \n",
      "A value is trying to be set on a copy of a slice from a DataFrame.\n",
      "Try using .loc[row_indexer,col_indexer] = value instead\n",
      "\n",
      "See the caveats in the documentation: https://pandas.pydata.org/pandas-docs/stable/user_guide/indexing.html#returning-a-view-versus-a-copy\n",
      "  no_reviews['bin'] = pd.qcut(no_reviews['number_of_reviews'],q=[0,0.1,0.2,0.3,0.4,0.5,0.6,0.7,0.8,0.9,1],duplicates='drop')\n"
     ]
    },
    {
     "data": {
      "text/html": [
       "<style  type=\"text/css\" >\n",
       "#T_09d2be8d_96e3_11ee_bc8e_046c590e48cbrow0_col0,#T_09d2be8d_96e3_11ee_bc8e_046c590e48cbrow0_col1,#T_09d2be8d_96e3_11ee_bc8e_046c590e48cbrow7_col2{\n",
       "            background-color:  #00441b;\n",
       "            color:  #f1f1f1;\n",
       "        }#T_09d2be8d_96e3_11ee_bc8e_046c590e48cbrow0_col2,#T_09d2be8d_96e3_11ee_bc8e_046c590e48cbrow1_col0,#T_09d2be8d_96e3_11ee_bc8e_046c590e48cbrow1_col1{\n",
       "            background-color:  #f7fcf5;\n",
       "            color:  #000000;\n",
       "        }#T_09d2be8d_96e3_11ee_bc8e_046c590e48cbrow1_col2{\n",
       "            background-color:  #ebf7e7;\n",
       "            color:  #000000;\n",
       "        }#T_09d2be8d_96e3_11ee_bc8e_046c590e48cbrow2_col0,#T_09d2be8d_96e3_11ee_bc8e_046c590e48cbrow2_col1{\n",
       "            background-color:  #e2f4dd;\n",
       "            color:  #000000;\n",
       "        }#T_09d2be8d_96e3_11ee_bc8e_046c590e48cbrow2_col2{\n",
       "            background-color:  #cbeac4;\n",
       "            color:  #000000;\n",
       "        }#T_09d2be8d_96e3_11ee_bc8e_046c590e48cbrow3_col0,#T_09d2be8d_96e3_11ee_bc8e_046c590e48cbrow3_col1{\n",
       "            background-color:  #ddf2d8;\n",
       "            color:  #000000;\n",
       "        }#T_09d2be8d_96e3_11ee_bc8e_046c590e48cbrow3_col2{\n",
       "            background-color:  #9bd696;\n",
       "            color:  #000000;\n",
       "        }#T_09d2be8d_96e3_11ee_bc8e_046c590e48cbrow4_col0,#T_09d2be8d_96e3_11ee_bc8e_046c590e48cbrow4_col1{\n",
       "            background-color:  #e4f5df;\n",
       "            color:  #000000;\n",
       "        }#T_09d2be8d_96e3_11ee_bc8e_046c590e48cbrow4_col2{\n",
       "            background-color:  #63bc6e;\n",
       "            color:  #000000;\n",
       "        }#T_09d2be8d_96e3_11ee_bc8e_046c590e48cbrow5_col0,#T_09d2be8d_96e3_11ee_bc8e_046c590e48cbrow5_col1{\n",
       "            background-color:  #dff3da;\n",
       "            color:  #000000;\n",
       "        }#T_09d2be8d_96e3_11ee_bc8e_046c590e48cbrow5_col2{\n",
       "            background-color:  #309950;\n",
       "            color:  #000000;\n",
       "        }#T_09d2be8d_96e3_11ee_bc8e_046c590e48cbrow6_col0,#T_09d2be8d_96e3_11ee_bc8e_046c590e48cbrow6_col1,#T_09d2be8d_96e3_11ee_bc8e_046c590e48cbrow7_col0,#T_09d2be8d_96e3_11ee_bc8e_046c590e48cbrow7_col1{\n",
       "            background-color:  #e0f3db;\n",
       "            color:  #000000;\n",
       "        }#T_09d2be8d_96e3_11ee_bc8e_046c590e48cbrow6_col2{\n",
       "            background-color:  #087432;\n",
       "            color:  #f1f1f1;\n",
       "        }</style><table id=\"T_09d2be8d_96e3_11ee_bc8e_046c590e48cb\" ><caption>Hello World</caption><thead>    <tr>        <th class=\"blank level0\" ></th>        <th class=\"col_heading level0 col0\" >Properties</th>        <th class=\"col_heading level0 col1\" >Percentage</th>        <th class=\"col_heading level0 col2\" >Cumulative Percentage</th>    </tr>    <tr>        <th class=\"index_name level0\" >Review Intervals</th>        <th class=\"blank\" ></th>        <th class=\"blank\" ></th>        <th class=\"blank\" ></th>    </tr></thead><tbody>\n",
       "                <tr>\n",
       "                        <th id=\"T_09d2be8d_96e3_11ee_bc8e_046c590e48cblevel0_row0\" class=\"row_heading level0 row0\" >(-0.001, 1.0]</th>\n",
       "                        <td id=\"T_09d2be8d_96e3_11ee_bc8e_046c590e48cbrow0_col0\" class=\"data row0 col0\" >15593</td>\n",
       "                        <td id=\"T_09d2be8d_96e3_11ee_bc8e_046c590e48cbrow0_col1\" class=\"data row0 col1\" >34.97</td>\n",
       "                        <td id=\"T_09d2be8d_96e3_11ee_bc8e_046c590e48cbrow0_col2\" class=\"data row0 col2\" >34.97</td>\n",
       "            </tr>\n",
       "            <tr>\n",
       "                        <th id=\"T_09d2be8d_96e3_11ee_bc8e_046c590e48cblevel0_row1\" class=\"row_heading level0 row1\" >(1.0, 2.0]</th>\n",
       "                        <td id=\"T_09d2be8d_96e3_11ee_bc8e_046c590e48cbrow1_col0\" class=\"data row1 col0\" >2506</td>\n",
       "                        <td id=\"T_09d2be8d_96e3_11ee_bc8e_046c590e48cbrow1_col1\" class=\"data row1 col1\" >5.62</td>\n",
       "                        <td id=\"T_09d2be8d_96e3_11ee_bc8e_046c590e48cbrow1_col2\" class=\"data row1 col2\" >40.59</td>\n",
       "            </tr>\n",
       "            <tr>\n",
       "                        <th id=\"T_09d2be8d_96e3_11ee_bc8e_046c590e48cblevel0_row2\" class=\"row_heading level0 row2\" >(2.0, 5.0]</th>\n",
       "                        <td id=\"T_09d2be8d_96e3_11ee_bc8e_046c590e48cbrow2_col0\" class=\"data row2 col0\" >4315</td>\n",
       "                        <td id=\"T_09d2be8d_96e3_11ee_bc8e_046c590e48cbrow2_col1\" class=\"data row2 col1\" >9.68</td>\n",
       "                        <td id=\"T_09d2be8d_96e3_11ee_bc8e_046c590e48cbrow2_col2\" class=\"data row2 col2\" >50.26</td>\n",
       "            </tr>\n",
       "            <tr>\n",
       "                        <th id=\"T_09d2be8d_96e3_11ee_bc8e_046c590e48cblevel0_row3\" class=\"row_heading level0 row3\" >(5.0, 11.0]</th>\n",
       "                        <td id=\"T_09d2be8d_96e3_11ee_bc8e_046c590e48cbrow3_col0\" class=\"data row3 col0\" >4592</td>\n",
       "                        <td id=\"T_09d2be8d_96e3_11ee_bc8e_046c590e48cbrow3_col1\" class=\"data row3 col1\" >10.30</td>\n",
       "                        <td id=\"T_09d2be8d_96e3_11ee_bc8e_046c590e48cbrow3_col2\" class=\"data row3 col2\" >60.56</td>\n",
       "            </tr>\n",
       "            <tr>\n",
       "                        <th id=\"T_09d2be8d_96e3_11ee_bc8e_046c590e48cblevel0_row4\" class=\"row_heading level0 row4\" >(11.0, 22.0]</th>\n",
       "                        <td id=\"T_09d2be8d_96e3_11ee_bc8e_046c590e48cbrow4_col0\" class=\"data row4 col0\" >4234</td>\n",
       "                        <td id=\"T_09d2be8d_96e3_11ee_bc8e_046c590e48cbrow4_col1\" class=\"data row4 col1\" >9.49</td>\n",
       "                        <td id=\"T_09d2be8d_96e3_11ee_bc8e_046c590e48cbrow4_col2\" class=\"data row4 col2\" >70.05</td>\n",
       "            </tr>\n",
       "            <tr>\n",
       "                        <th id=\"T_09d2be8d_96e3_11ee_bc8e_046c590e48cblevel0_row5\" class=\"row_heading level0 row5\" >(22.0, 45.0]</th>\n",
       "                        <td id=\"T_09d2be8d_96e3_11ee_bc8e_046c590e48cbrow5_col0\" class=\"data row5 col0\" >4493</td>\n",
       "                        <td id=\"T_09d2be8d_96e3_11ee_bc8e_046c590e48cbrow5_col1\" class=\"data row5 col1\" >10.08</td>\n",
       "                        <td id=\"T_09d2be8d_96e3_11ee_bc8e_046c590e48cbrow5_col2\" class=\"data row5 col2\" >80.13</td>\n",
       "            </tr>\n",
       "            <tr>\n",
       "                        <th id=\"T_09d2be8d_96e3_11ee_bc8e_046c590e48cblevel0_row6\" class=\"row_heading level0 row6\" >(45.0, 99.0]</th>\n",
       "                        <td id=\"T_09d2be8d_96e3_11ee_bc8e_046c590e48cbrow6_col0\" class=\"data row6 col0\" >4418</td>\n",
       "                        <td id=\"T_09d2be8d_96e3_11ee_bc8e_046c590e48cbrow6_col1\" class=\"data row6 col1\" >9.91</td>\n",
       "                        <td id=\"T_09d2be8d_96e3_11ee_bc8e_046c590e48cbrow6_col2\" class=\"data row6 col2\" >90.04</td>\n",
       "            </tr>\n",
       "            <tr>\n",
       "                        <th id=\"T_09d2be8d_96e3_11ee_bc8e_046c590e48cblevel0_row7\" class=\"row_heading level0 row7\" >(99.0, 2472.0]</th>\n",
       "                        <td id=\"T_09d2be8d_96e3_11ee_bc8e_046c590e48cbrow7_col0\" class=\"data row7 col0\" >4443</td>\n",
       "                        <td id=\"T_09d2be8d_96e3_11ee_bc8e_046c590e48cbrow7_col1\" class=\"data row7 col1\" >9.96</td>\n",
       "                        <td id=\"T_09d2be8d_96e3_11ee_bc8e_046c590e48cbrow7_col2\" class=\"data row7 col2\" >100.00</td>\n",
       "            </tr>\n",
       "    </tbody></table>"
      ],
      "text/plain": [
       "<pandas.io.formats.style.Styler at 0x28a57217b80>"
      ]
     },
     "execution_count": 64,
     "metadata": {},
     "output_type": "execute_result"
    }
   ],
   "source": [
    "no_reviews = df_listings[['number_of_reviews']] \n",
    "no_reviews['bin'] = pd.qcut(no_reviews['number_of_reviews'],q=[0,0.1,0.2,0.3,0.4,0.5,0.6,0.7,0.8,0.9,1],duplicates='drop')\n",
    "\n",
    "no_reviews_group = no_reviews.groupby('bin').count().rename(columns={'number_of_reviews':'Properties'})\n",
    "no_reviews_group['Percentage'] = (no_reviews_group['Properties']/no_reviews_group['Properties'].sum())*100\n",
    "no_reviews_group['Cumulative Percentage'] = no_reviews_group['Percentage'].cumsum()\n",
    "no_reviews_group.index.name = 'Review Intervals'\n",
    "\n",
    "no_reviews_group.style.background_gradient(cmap='Greens').set_caption(\"Figure 1\")"
   ]
  },
  {
   "cell_type": "code",
   "execution_count": 14,
   "id": "3a4eab19-e1be-4f9c-ba3f-1f10594dfa37",
   "metadata": {
    "tags": []
   },
   "outputs": [],
   "source": [
    "## 35% of properties have 0 or 1 reviews\n",
    "## 30% of properties have over 10 reviews\n",
    "## 10% of properties have over 100 reviews"
   ]
  },
  {
   "cell_type": "markdown",
   "id": "3d58451d-f8af-4fd3-b500-fb385512ddfd",
   "metadata": {},
   "source": [
    "### Most Common Amenities"
   ]
  },
  {
   "cell_type": "code",
   "execution_count": 15,
   "id": "2e4f38cf-7070-4ec9-b7b3-42edb94aae8e",
   "metadata": {
    "jupyter": {
     "source_hidden": true
    }
   },
   "outputs": [],
   "source": [
    "def top_words(df,col,pd_slice,n=10):\n",
    "    \n",
    "    # Counter\n",
    "    from collections import Counter\n",
    "\n",
    "    # Dataframe slice\n",
    "    df_sliced = df[pd_slice][col]\n",
    "    \n",
    "    # Flatten the lists in the Series\n",
    "    flat_list = [word for sublist in df_sliced for word in sublist]\n",
    "\n",
    "    # Use Counter to count the occurrences of each word\n",
    "    word_counts = Counter(flat_list)\n",
    "\n",
    "    # If you want the top N most common words, you can specify N\n",
    "    top_n_words = word_counts.most_common(n)\n",
    "    \n",
    "    return top_n_words"
   ]
  },
  {
   "cell_type": "code",
   "execution_count": 16,
   "id": "c0e2d3a6-2d5f-4cbe-b005-d3b1b2519491",
   "metadata": {
    "jupyter": {
     "source_hidden": true
    }
   },
   "outputs": [
    {
     "data": {
      "image/png": "[encoded data removed]",
      "text/plain": [
       "<Figure size 360x216 with 1 Axes>"
      ]
     },
     "metadata": {
      "needs_background": "light"
     },
     "output_type": "display_data"
    }
   ],
   "source": [
    "# Generate data\n",
    "n = 10\n",
    "most_common_words = top_words(df_listings,'amenities',df_listings['id']!=0,n=n)\n",
    "most_common_df = pd.DataFrame(most_common_words,columns=['Word','Count'])\n",
    "\n",
    "# Create a barplot\n",
    "plt.figure(figsize=(5, 3))  # Adjust the figure size as needed\n",
    "\n",
    "barplot = sns.barplot(x=most_common_df['Word'],y=most_common_df['Count'],color=sns.color_palette()[2])\n",
    "\n",
    "# Rotate x-axis labels for better readability\n",
    "barplot.set_xticklabels(barplot.get_xticklabels(), rotation=45, horizontalalignment='right')\n",
    "\n",
    "# Set plot title and axis labels\n",
    "plt.title(f'Top {n} Most Common Amenities')\n",
    "plt.xlabel('Word')\n",
    "plt.ylabel('Frequency')\n",
    "\n",
    "# Show the plot\n",
    "plt.show()"
   ]
  },
  {
   "cell_type": "markdown",
   "id": "c2db9cca-849a-4294-a2ce-23b629524949",
   "metadata": {},
   "source": [
    "### Average Reviews per Category"
   ]
  },
  {
   "cell_type": "code",
   "execution_count": 17,
   "id": "d36f912e-2bcb-4156-8dd0-56cdd3187f26",
   "metadata": {
    "jupyter": {
     "source_hidden": true
    }
   },
   "outputs": [
    {
     "data": {
      "text/html": [
       "<style  type=\"text/css\" >\n",
       "#T_37919a96_96c4_11ee_b64e_046c590e48cbrow0_col0,#T_37919a96_96c4_11ee_b64e_046c590e48cbrow1_col3,#T_37919a96_96c4_11ee_b64e_046c590e48cbrow2_col0,#T_37919a96_96c4_11ee_b64e_046c590e48cbrow4_col3,#T_37919a96_96c4_11ee_b64e_046c590e48cbrow4_col4,#T_37919a96_96c4_11ee_b64e_046c590e48cbrow5_col3,#T_37919a96_96c4_11ee_b64e_046c590e48cbrow5_col4,#T_37919a96_96c4_11ee_b64e_046c590e48cbrow6_col0,#T_37919a96_96c4_11ee_b64e_046c590e48cbrow6_col1,#T_37919a96_96c4_11ee_b64e_046c590e48cbrow6_col2,#T_37919a96_96c4_11ee_b64e_046c590e48cbrow6_col3,#T_37919a96_96c4_11ee_b64e_046c590e48cbrow6_col4,#T_37919a96_96c4_11ee_b64e_046c590e48cbrow6_col5{\n",
       "            background-color:  #00441b;\n",
       "            color:  #f1f1f1;\n",
       "        }#T_37919a96_96c4_11ee_b64e_046c590e48cbrow0_col1,#T_37919a96_96c4_11ee_b64e_046c590e48cbrow0_col4{\n",
       "            background-color:  #f1faee;\n",
       "            color:  #000000;\n",
       "        }#T_37919a96_96c4_11ee_b64e_046c590e48cbrow0_col2{\n",
       "            background-color:  #f0f9ed;\n",
       "            color:  #000000;\n",
       "        }#T_37919a96_96c4_11ee_b64e_046c590e48cbrow0_col3{\n",
       "            background-color:  #f5fbf2;\n",
       "            color:  #000000;\n",
       "        }#T_37919a96_96c4_11ee_b64e_046c590e48cbrow0_col5{\n",
       "            background-color:  #f5fbf3;\n",
       "            color:  #000000;\n",
       "        }#T_37919a96_96c4_11ee_b64e_046c590e48cbrow0_col6,#T_37919a96_96c4_11ee_b64e_046c590e48cbrow1_col6,#T_37919a96_96c4_11ee_b64e_046c590e48cbrow2_col5,#T_37919a96_96c4_11ee_b64e_046c590e48cbrow3_col0,#T_37919a96_96c4_11ee_b64e_046c590e48cbrow3_col1,#T_37919a96_96c4_11ee_b64e_046c590e48cbrow3_col2,#T_37919a96_96c4_11ee_b64e_046c590e48cbrow3_col3,#T_37919a96_96c4_11ee_b64e_046c590e48cbrow3_col4,#T_37919a96_96c4_11ee_b64e_046c590e48cbrow3_col5,#T_37919a96_96c4_11ee_b64e_046c590e48cbrow3_col6,#T_37919a96_96c4_11ee_b64e_046c590e48cbrow4_col6,#T_37919a96_96c4_11ee_b64e_046c590e48cbrow5_col6,#T_37919a96_96c4_11ee_b64e_046c590e48cbrow6_col6,#T_37919a96_96c4_11ee_b64e_046c590e48cbrow7_col0,#T_37919a96_96c4_11ee_b64e_046c590e48cbrow7_col1,#T_37919a96_96c4_11ee_b64e_046c590e48cbrow7_col2,#T_37919a96_96c4_11ee_b64e_046c590e48cbrow7_col3,#T_37919a96_96c4_11ee_b64e_046c590e48cbrow7_col4,#T_37919a96_96c4_11ee_b64e_046c590e48cbrow7_col5,#T_37919a96_96c4_11ee_b64e_046c590e48cbrow7_col6{\n",
       "            background-color:  #f7fcf5;\n",
       "            color:  #000000;\n",
       "        }#T_37919a96_96c4_11ee_b64e_046c590e48cbrow1_col0{\n",
       "            background-color:  #c9eac2;\n",
       "            color:  #000000;\n",
       "        }#T_37919a96_96c4_11ee_b64e_046c590e48cbrow1_col1,#T_37919a96_96c4_11ee_b64e_046c590e48cbrow4_col1{\n",
       "            background-color:  #4bb062;\n",
       "            color:  #000000;\n",
       "        }#T_37919a96_96c4_11ee_b64e_046c590e48cbrow1_col2{\n",
       "            background-color:  #c7e9c0;\n",
       "            color:  #000000;\n",
       "        }#T_37919a96_96c4_11ee_b64e_046c590e48cbrow1_col4{\n",
       "            background-color:  #005221;\n",
       "            color:  #f1f1f1;\n",
       "        }#T_37919a96_96c4_11ee_b64e_046c590e48cbrow1_col5{\n",
       "            background-color:  #3da65a;\n",
       "            color:  #000000;\n",
       "        }#T_37919a96_96c4_11ee_b64e_046c590e48cbrow2_col1,#T_37919a96_96c4_11ee_b64e_046c590e48cbrow4_col2{\n",
       "            background-color:  #bee5b8;\n",
       "            color:  #000000;\n",
       "        }#T_37919a96_96c4_11ee_b64e_046c590e48cbrow2_col2{\n",
       "            background-color:  #8ace88;\n",
       "            color:  #000000;\n",
       "        }#T_37919a96_96c4_11ee_b64e_046c590e48cbrow2_col3{\n",
       "            background-color:  #f6fcf4;\n",
       "            color:  #000000;\n",
       "        }#T_37919a96_96c4_11ee_b64e_046c590e48cbrow2_col4{\n",
       "            background-color:  #e3f4de;\n",
       "            color:  #000000;\n",
       "        }#T_37919a96_96c4_11ee_b64e_046c590e48cbrow2_col6{\n",
       "            background-color:  #80ca80;\n",
       "            color:  #000000;\n",
       "        }#T_37919a96_96c4_11ee_b64e_046c590e48cbrow4_col0{\n",
       "            background-color:  #a5db9f;\n",
       "            color:  #000000;\n",
       "        }#T_37919a96_96c4_11ee_b64e_046c590e48cbrow4_col5{\n",
       "            background-color:  #5bb86a;\n",
       "            color:  #000000;\n",
       "        }#T_37919a96_96c4_11ee_b64e_046c590e48cbrow5_col0{\n",
       "            background-color:  #68be70;\n",
       "            color:  #000000;\n",
       "        }#T_37919a96_96c4_11ee_b64e_046c590e48cbrow5_col1{\n",
       "            background-color:  #3ca559;\n",
       "            color:  #000000;\n",
       "        }#T_37919a96_96c4_11ee_b64e_046c590e48cbrow5_col2{\n",
       "            background-color:  #94d390;\n",
       "            color:  #000000;\n",
       "        }#T_37919a96_96c4_11ee_b64e_046c590e48cbrow5_col5{\n",
       "            background-color:  #50b264;\n",
       "            color:  #000000;\n",
       "        }</style><table id=\"T_37919a96_96c4_11ee_b64e_046c590e48cb\" ><thead>    <tr>        <th class=\"blank level0\" ></th>        <th class=\"col_heading level0 col0\" >review_scores_rating</th>        <th class=\"col_heading level0 col1\" >review_scores_accuracy</th>        <th class=\"col_heading level0 col2\" >review_scores_cleanliness</th>        <th class=\"col_heading level0 col3\" >review_scores_checkin</th>        <th class=\"col_heading level0 col4\" >review_scores_communication</th>        <th class=\"col_heading level0 col5\" >review_scores_location</th>        <th class=\"col_heading level0 col6\" >review_scores_value</th>    </tr></thead><tbody>\n",
       "                <tr>\n",
       "                        <th id=\"T_37919a96_96c4_11ee_b64e_046c590e48cblevel0_row0\" class=\"row_heading level0 row0\" >count</th>\n",
       "                        <td id=\"T_37919a96_96c4_11ee_b64e_046c590e48cbrow0_col0\" class=\"data row0 col0\" >32962.00</td>\n",
       "                        <td id=\"T_37919a96_96c4_11ee_b64e_046c590e48cbrow0_col1\" class=\"data row0 col1\" >32731.00</td>\n",
       "                        <td id=\"T_37919a96_96c4_11ee_b64e_046c590e48cbrow0_col2\" class=\"data row0 col2\" >32732.00</td>\n",
       "                        <td id=\"T_37919a96_96c4_11ee_b64e_046c590e48cbrow0_col3\" class=\"data row0 col3\" >32724.00</td>\n",
       "                        <td id=\"T_37919a96_96c4_11ee_b64e_046c590e48cbrow0_col4\" class=\"data row0 col4\" >32731.00</td>\n",
       "                        <td id=\"T_37919a96_96c4_11ee_b64e_046c590e48cbrow0_col5\" class=\"data row0 col5\" >32723.00</td>\n",
       "                        <td id=\"T_37919a96_96c4_11ee_b64e_046c590e48cbrow0_col6\" class=\"data row0 col6\" >32720.00</td>\n",
       "            </tr>\n",
       "            <tr>\n",
       "                        <th id=\"T_37919a96_96c4_11ee_b64e_046c590e48cblevel0_row1\" class=\"row_heading level0 row1\" >mean</th>\n",
       "                        <td id=\"T_37919a96_96c4_11ee_b64e_046c590e48cbrow1_col0\" class=\"data row1 col0\" >4.71</td>\n",
       "                        <td id=\"T_37919a96_96c4_11ee_b64e_046c590e48cbrow1_col1\" class=\"data row1 col1\" >4.77</td>\n",
       "                        <td id=\"T_37919a96_96c4_11ee_b64e_046c590e48cbrow1_col2\" class=\"data row1 col2\" >4.71</td>\n",
       "                        <td id=\"T_37919a96_96c4_11ee_b64e_046c590e48cbrow1_col3\" class=\"data row1 col3\" >4.84</td>\n",
       "                        <td id=\"T_37919a96_96c4_11ee_b64e_046c590e48cbrow1_col4\" class=\"data row1 col4\" >4.83</td>\n",
       "                        <td id=\"T_37919a96_96c4_11ee_b64e_046c590e48cbrow1_col5\" class=\"data row1 col5\" >4.78</td>\n",
       "                        <td id=\"T_37919a96_96c4_11ee_b64e_046c590e48cbrow1_col6\" class=\"data row1 col6\" >4.67</td>\n",
       "            </tr>\n",
       "            <tr>\n",
       "                        <th id=\"T_37919a96_96c4_11ee_b64e_046c590e48cblevel0_row2\" class=\"row_heading level0 row2\" >std</th>\n",
       "                        <td id=\"T_37919a96_96c4_11ee_b64e_046c590e48cbrow2_col0\" class=\"data row2 col0\" >0.62</td>\n",
       "                        <td id=\"T_37919a96_96c4_11ee_b64e_046c590e48cbrow2_col1\" class=\"data row2 col1\" >0.48</td>\n",
       "                        <td id=\"T_37919a96_96c4_11ee_b64e_046c590e48cbrow2_col2\" class=\"data row2 col2\" >0.51</td>\n",
       "                        <td id=\"T_37919a96_96c4_11ee_b64e_046c590e48cbrow2_col3\" class=\"data row2 col3\" >0.42</td>\n",
       "                        <td id=\"T_37919a96_96c4_11ee_b64e_046c590e48cbrow2_col4\" class=\"data row2 col4\" >0.45</td>\n",
       "                        <td id=\"T_37919a96_96c4_11ee_b64e_046c590e48cbrow2_col5\" class=\"data row2 col5\" >0.42</td>\n",
       "                        <td id=\"T_37919a96_96c4_11ee_b64e_046c590e48cbrow2_col6\" class=\"data row2 col6\" >0.51</td>\n",
       "            </tr>\n",
       "            <tr>\n",
       "                        <th id=\"T_37919a96_96c4_11ee_b64e_046c590e48cblevel0_row3\" class=\"row_heading level0 row3\" >min</th>\n",
       "                        <td id=\"T_37919a96_96c4_11ee_b64e_046c590e48cbrow3_col0\" class=\"data row3 col0\" >0.00</td>\n",
       "                        <td id=\"T_37919a96_96c4_11ee_b64e_046c590e48cbrow3_col1\" class=\"data row3 col1\" >0.00</td>\n",
       "                        <td id=\"T_37919a96_96c4_11ee_b64e_046c590e48cbrow3_col2\" class=\"data row3 col2\" >0.00</td>\n",
       "                        <td id=\"T_37919a96_96c4_11ee_b64e_046c590e48cbrow3_col3\" class=\"data row3 col3\" >0.00</td>\n",
       "                        <td id=\"T_37919a96_96c4_11ee_b64e_046c590e48cbrow3_col4\" class=\"data row3 col4\" >0.00</td>\n",
       "                        <td id=\"T_37919a96_96c4_11ee_b64e_046c590e48cbrow3_col5\" class=\"data row3 col5\" >0.00</td>\n",
       "                        <td id=\"T_37919a96_96c4_11ee_b64e_046c590e48cbrow3_col6\" class=\"data row3 col6\" >0.00</td>\n",
       "            </tr>\n",
       "            <tr>\n",
       "                        <th id=\"T_37919a96_96c4_11ee_b64e_046c590e48cblevel0_row4\" class=\"row_heading level0 row4\" >25%</th>\n",
       "                        <td id=\"T_37919a96_96c4_11ee_b64e_046c590e48cbrow4_col0\" class=\"data row4 col0\" >4.69</td>\n",
       "                        <td id=\"T_37919a96_96c4_11ee_b64e_046c590e48cbrow4_col1\" class=\"data row4 col1\" >4.75</td>\n",
       "                        <td id=\"T_37919a96_96c4_11ee_b64e_046c590e48cbrow4_col2\" class=\"data row4 col2\" >4.67</td>\n",
       "                        <td id=\"T_37919a96_96c4_11ee_b64e_046c590e48cbrow4_col3\" class=\"data row4 col3\" >4.85</td>\n",
       "                        <td id=\"T_37919a96_96c4_11ee_b64e_046c590e48cbrow4_col4\" class=\"data row4 col4\" >4.85</td>\n",
       "                        <td id=\"T_37919a96_96c4_11ee_b64e_046c590e48cbrow4_col5\" class=\"data row4 col5\" >4.74</td>\n",
       "                        <td id=\"T_37919a96_96c4_11ee_b64e_046c590e48cbrow4_col6\" class=\"data row4 col6\" >4.60</td>\n",
       "            </tr>\n",
       "            <tr>\n",
       "                        <th id=\"T_37919a96_96c4_11ee_b64e_046c590e48cblevel0_row5\" class=\"row_heading level0 row5\" >50%</th>\n",
       "                        <td id=\"T_37919a96_96c4_11ee_b64e_046c590e48cbrow5_col0\" class=\"data row5 col0\" >4.89</td>\n",
       "                        <td id=\"T_37919a96_96c4_11ee_b64e_046c590e48cbrow5_col1\" class=\"data row5 col1\" >4.91</td>\n",
       "                        <td id=\"T_37919a96_96c4_11ee_b64e_046c590e48cbrow5_col2\" class=\"data row5 col2\" >4.87</td>\n",
       "                        <td id=\"T_37919a96_96c4_11ee_b64e_046c590e48cbrow5_col3\" class=\"data row5 col3\" >4.97</td>\n",
       "                        <td id=\"T_37919a96_96c4_11ee_b64e_046c590e48cbrow5_col4\" class=\"data row5 col4\" >4.97</td>\n",
       "                        <td id=\"T_37919a96_96c4_11ee_b64e_046c590e48cbrow5_col5\" class=\"data row5 col5\" >4.90</td>\n",
       "                        <td id=\"T_37919a96_96c4_11ee_b64e_046c590e48cbrow5_col6\" class=\"data row5 col6\" >4.80</td>\n",
       "            </tr>\n",
       "            <tr>\n",
       "                        <th id=\"T_37919a96_96c4_11ee_b64e_046c590e48cblevel0_row6\" class=\"row_heading level0 row6\" >75%</th>\n",
       "                        <td id=\"T_37919a96_96c4_11ee_b64e_046c590e48cbrow6_col0\" class=\"data row6 col0\" >5.00</td>\n",
       "                        <td id=\"T_37919a96_96c4_11ee_b64e_046c590e48cbrow6_col1\" class=\"data row6 col1\" >5.00</td>\n",
       "                        <td id=\"T_37919a96_96c4_11ee_b64e_046c590e48cbrow6_col2\" class=\"data row6 col2\" >5.00</td>\n",
       "                        <td id=\"T_37919a96_96c4_11ee_b64e_046c590e48cbrow6_col3\" class=\"data row6 col3\" >5.00</td>\n",
       "                        <td id=\"T_37919a96_96c4_11ee_b64e_046c590e48cbrow6_col4\" class=\"data row6 col4\" >5.00</td>\n",
       "                        <td id=\"T_37919a96_96c4_11ee_b64e_046c590e48cbrow6_col5\" class=\"data row6 col5\" >5.00</td>\n",
       "                        <td id=\"T_37919a96_96c4_11ee_b64e_046c590e48cbrow6_col6\" class=\"data row6 col6\" >4.95</td>\n",
       "            </tr>\n",
       "            <tr>\n",
       "                        <th id=\"T_37919a96_96c4_11ee_b64e_046c590e48cblevel0_row7\" class=\"row_heading level0 row7\" >max</th>\n",
       "                        <td id=\"T_37919a96_96c4_11ee_b64e_046c590e48cbrow7_col0\" class=\"data row7 col0\" >5.00</td>\n",
       "                        <td id=\"T_37919a96_96c4_11ee_b64e_046c590e48cbrow7_col1\" class=\"data row7 col1\" >5.00</td>\n",
       "                        <td id=\"T_37919a96_96c4_11ee_b64e_046c590e48cbrow7_col2\" class=\"data row7 col2\" >5.00</td>\n",
       "                        <td id=\"T_37919a96_96c4_11ee_b64e_046c590e48cbrow7_col3\" class=\"data row7 col3\" >5.00</td>\n",
       "                        <td id=\"T_37919a96_96c4_11ee_b64e_046c590e48cbrow7_col4\" class=\"data row7 col4\" >5.00</td>\n",
       "                        <td id=\"T_37919a96_96c4_11ee_b64e_046c590e48cbrow7_col5\" class=\"data row7 col5\" >5.00</td>\n",
       "                        <td id=\"T_37919a96_96c4_11ee_b64e_046c590e48cbrow7_col6\" class=\"data row7 col6\" >5.00</td>\n",
       "            </tr>\n",
       "    </tbody></table>"
      ],
      "text/plain": [
       "<pandas.io.formats.style.Styler at 0x28931df2700>"
      ]
     },
     "execution_count": 17,
     "metadata": {},
     "output_type": "execute_result"
    }
   ],
   "source": [
    "df_listings[[\n",
    "    'review_scores_rating',\n",
    "    'review_scores_accuracy',\n",
    "    'review_scores_cleanliness',\n",
    "    'review_scores_checkin',\n",
    "    'review_scores_communication',\n",
    "    'review_scores_location',\n",
    "    'review_scores_value'\n",
    "]].describe().style.background_gradient(cmap='Greens',axis=1)"
   ]
  },
  {
   "cell_type": "markdown",
   "id": "7b66615a-dca7-4b11-a2af-c8901f0c081c",
   "metadata": {},
   "source": [
    "### Review Distributions"
   ]
  },
  {
   "cell_type": "code",
   "execution_count": 29,
   "id": "812e0fbc-d4e1-4590-aa2b-a1171fbd00dc",
   "metadata": {
    "tags": []
   },
   "outputs": [
    {
     "data": {
      "image/png": "[encoded data removed]",
      "text/plain": [
       "<Figure size 864x576 with 1 Axes>"
      ]
     },
     "metadata": {},
     "output_type": "display_data"
    }
   ],
   "source": [
    "import matplotlib.pyplot as plt\n",
    "import seaborn as sns\n",
    "\n",
    "# Create a figure and axis\n",
    "plt.figure(figsize=(12, 8))  # Adjusted figure size for better visibility\n",
    "sns.set_theme(style=\"whitegrid\", font_scale=1.2)  # Increased font size\n",
    "\n",
    "# Loop through columns\n",
    "for x in df_listings[['review_scores_accuracy', 'review_scores_cleanliness', 'review_scores_checkin',\n",
    "                      'review_scores_communication', 'review_scores_location', 'review_scores_value']]:\n",
    "    \n",
    "    # Plot KDE for each dataset\n",
    "    sns.kdeplot(df_listings[x], label=x.split('_')[-1], linewidth=4)\n",
    "\n",
    "# Set plot title and axis labels with larger fonts\n",
    "plt.title('Types of Reviews | Distributions', fontsize=18)\n",
    "plt.xlabel('Score', fontsize=14)\n",
    "plt.ylabel('Density', fontsize=14)\n",
    "\n",
    "# Add a legend with larger fonts\n",
    "plt.legend(fontsize=12)\n",
    "\n",
    "# Plot limits\n",
    "plt.xlim((2.5, 5))\n",
    "\n",
    "# Show the plot\n",
    "plt.show()\n"
   ]
  },
  {
   "cell_type": "code",
   "execution_count": 19,
   "id": "d8f89e1e-f4e2-4a4e-b208-d177cda02e6c",
   "metadata": {
    "tags": []
   },
   "outputs": [],
   "source": [
    "## Check-Ins and Communication are the best review categories\n",
    "## Value is the lowest review category\n",
    "## Accuracy, Cleanliness and Location are in between"
   ]
  },
  {
   "cell_type": "markdown",
   "id": "23baca65-9f84-4f1e-ba4f-1022701e636d",
   "metadata": {},
   "source": [
    "## Reviews"
   ]
  },
  {
   "cell_type": "markdown",
   "id": "741c2939-f42c-463c-8320-512b6756c2c4",
   "metadata": {},
   "source": [
    "### Most Common Words"
   ]
  },
  {
   "cell_type": "code",
   "execution_count": 20,
   "id": "9ce8e6da-0974-47da-8a83-b1b363ec69af",
   "metadata": {
    "jupyter": {
     "source_hidden": true
    }
   },
   "outputs": [],
   "source": [
    "df_reviews_eda = df_reviews.copy()\n",
    "\n",
    "# Merge reviews with the listing average review score\n",
    "df_reviews_eda = pd.merge(\n",
    "    left = df_reviews_eda,\n",
    "    right = df_listings.rename(columns={'id':'listing_id'})[['listing_id','review_scores_rating']].drop_duplicates(),\n",
    "    on = 'listing_id',\n",
    "    how = 'left'\n",
    ")"
   ]
  },
  {
   "cell_type": "code",
   "execution_count": 21,
   "id": "5c13af71-eaf6-4137-8dab-b6733ab215ba",
   "metadata": {
    "jupyter": {
     "source_hidden": true
    }
   },
   "outputs": [
    {
     "name": "stderr",
     "output_type": "stream",
     "text": [
      "[nltk_data] Downloading package stopwords to\n",
      "[nltk_data]     C:\\Users\\anton\\AppData\\Roaming\\nltk_data...\n",
      "[nltk_data]   Package stopwords is already up-to-date!\n",
      "[nltk_data] Downloading package wordnet to\n",
      "[nltk_data]     C:\\Users\\anton\\AppData\\Roaming\\nltk_data...\n",
      "[nltk_data]   Package wordnet is already up-to-date!\n"
     ]
    }
   ],
   "source": [
    "# Clean comments\n",
    "nltk.download('stopwords') \n",
    "nltk.download('wordnet')\n",
    "\n",
    "# Function to perform all cleaning steps\n",
    "def clean_text(text):\n",
    "        \n",
    "    # Remove punctuation\n",
    "    text = \"\".join([char for char in text if char not in string.punctuation])\n",
    "    \n",
    "    # Lowercase the text\n",
    "    text = text.lower()\n",
    "    \n",
    "    # Tokenization\n",
    "    tokens = re.split(r'\\W+', text)\n",
    "    \n",
    "    # Remove stopwords\n",
    "    tokens = [word for word in tokens if word not in stopwords]\n",
    "    \n",
    "    # Stemming\n",
    "    tokens = [porter_stemmer.stem(word) for word in tokens]\n",
    "    \n",
    "    # Lemmatization\n",
    "    tokens = [wordnet_lemmatizer.lemmatize(word) for word in tokens]\n",
    "\n",
    "    return tokens\n",
    "\n",
    "# Set of English stopwords\n",
    "stopwords = set(nltk.corpus.stopwords.words('english'))\n",
    "\n",
    "# Initialize stemmer and lemmatizer\n",
    "porter_stemmer = PorterStemmer()\n",
    "wordnet_lemmatizer = WordNetLemmatizer()"
   ]
  },
  {
   "cell_type": "code",
   "execution_count": 22,
   "id": "e399e599-7ce6-4bb9-b0a9-737fa93fed60",
   "metadata": {
    "tags": []
   },
   "outputs": [],
   "source": [
    "df_reviews_eda['clean_comments'] = df_reviews_eda['comments'].fillna('').apply(clean_text)"
   ]
  },
  {
   "cell_type": "code",
   "execution_count": 23,
   "id": "5ef19176-288b-45bd-9101-9ad0f9400a60",
   "metadata": {
    "tags": []
   },
   "outputs": [],
   "source": [
    "def top_words(df,col,pd_slice,n=10):\n",
    "    \n",
    "    # Counter\n",
    "    from collections import Counter\n",
    "\n",
    "    # Dataframe slice\n",
    "    df_sliced = df[pd_slice][col]\n",
    "    \n",
    "    # Flatten the lists in the Series\n",
    "    flat_list = [word for sublist in df_sliced for word in sublist]\n",
    "\n",
    "    # Use Counter to count the occurrences of each word\n",
    "    word_counts = Counter(flat_list)\n",
    "\n",
    "    # If you want the top N most common words, you can specify N\n",
    "    top_n_words = word_counts.most_common(n)\n",
    "    \n",
    "    return top_n_words"
   ]
  },
  {
   "cell_type": "code",
   "execution_count": 38,
   "id": "4c1b17b8-20e4-4b7a-8be4-b45f1a8e5fa9",
   "metadata": {
    "tags": []
   },
   "outputs": [
    {
     "data": {
      "image/png": "[encoded data removed]",
      "text/plain": [
       "<Figure size 360x360 with 1 Axes>"
      ]
     },
     "metadata": {},
     "output_type": "display_data"
    }
   ],
   "source": [
    "# Generate data\n",
    "n = 10\n",
    "most_common_words = top_words(df_reviews_eda,'clean_comments',df_reviews_eda['review_scores_rating']<=3,n=n)\n",
    "most_common_df = pd.DataFrame(most_common_words,columns=['Word','Count'])\n",
    "\n",
    "# Create a barplot\n",
    "plt.figure(figsize=(5, 5))  # Adjust the figure size as needed\n",
    "\n",
    "barplot = sns.barplot(x=most_common_df['Word'],y=most_common_df['Count'],color=sns.color_palette()[2])\n",
    "\n",
    "# Rotate x-axis labels for better readability\n",
    "barplot.set_xticklabels(barplot.get_xticklabels(), rotation=45, horizontalalignment='right')\n",
    "\n",
    "# Set plot title and axis labels\n",
    "plt.title(f'Top {n} Most Common Words of Reviews Below 3.0')\n",
    "plt.xlabel('Word')\n",
    "plt.ylabel('Frequency')\n",
    "\n",
    "# Show the plot\n",
    "plt.tight_layout()\n",
    "plt.savefig('words_below.png')\n",
    "plt.show()"
   ]
  },
  {
   "cell_type": "code",
   "execution_count": 63,
   "id": "213c734b-c9fb-45d4-88a2-c6cbd1334d5b",
   "metadata": {},
   "outputs": [
    {
     "data": {
      "image/png": "[encoded data removed]",
      "text/plain": [
       "<Figure size 864x432 with 2 Axes>"
      ]
     },
     "metadata": {},
     "output_type": "display_data"
    }
   ],
   "source": [
    "# Create a barplot\n",
    "f, ax = plt.subplots(1, 2, figsize=(12, 6))  # Adjust the figure size as needed\n",
    "\n",
    "# Generate data for reviews with rating <= 3.0\n",
    "n = 10\n",
    "most_common_words = top_words(df_reviews_eda, 'clean_comments', df_reviews_eda['review_scores_rating'] <= 3, n=n)\n",
    "most_common_df = pd.DataFrame(most_common_words, columns=['Word', 'Count'])\n",
    "\n",
    "barplot_1 = sns.barplot(x=most_common_df['Word'], y=most_common_df['Count'], color=sns.color_palette()[2], ax=ax[0])\n",
    "\n",
    "# Generate data for reviews with rating >= 4.5\n",
    "most_common_words = top_words(df_reviews_eda, 'clean_comments', df_reviews_eda['review_scores_rating'] >= 4.5, n=n)\n",
    "most_common_df = pd.DataFrame(most_common_words, columns=['Word', 'Count'])\n",
    "\n",
    "barplot_2 = sns.barplot(x=most_common_df['Word'], y=most_common_df['Count'], color=sns.color_palette()[2], ax=ax[1])\n",
    "\n",
    "# Rotate x-axis labels for better readability\n",
    "ax[0].set_xticklabels(barplot_1.get_xticklabels(), rotation=45, horizontalalignment='right')\n",
    "ax[1].set_xticklabels(barplot_2.get_xticklabels(), rotation=45, horizontalalignment='right')\n",
    "\n",
    "# Set plot title and axis labels\n",
    "ax[0].set_title(f'Top {n} Most Common Words | Reviews < 3.0')\n",
    "ax[0].set_xlabel('')\n",
    "ax[0].set_ylabel('Frequency')\n",
    "\n",
    "ax[1].set_title(f'Top {n} Most Common Words | Reviews > 4.5')\n",
    "ax[1].set_xlabel('')\n",
    "ax[1].set_ylabel('')\n",
    "\n",
    "# Show the plot\n",
    "plt.tight_layout()\n",
    "plt.savefig('words.png')\n",
    "plt.show()\n"
   ]
  },
  {
   "cell_type": "code",
   "execution_count": null,
   "id": "c7ff7fae-f012-447a-b08e-79db950a3050",
   "metadata": {
    "tags": []
   },
   "outputs": [
    {
     "data": {
      "image/png": "[encoded data removed]",
      "text/plain": [
       "<Figure size 360x360 with 1 Axes>"
      ]
     },
     "metadata": {},
     "output_type": "display_data"
    }
   ],
   "source": [
    "# Generate data\n",
    "n = 10\n",
    "most_common_words = top_words(df_reviews_eda,'clean_comments',df_reviews_eda['review_scores_rating']>=4.5,n=n)\n",
    "most_common_df = pd.DataFrame(most_common_words,columns=['Word','Count'])\n",
    "\n",
    "# Create a barplot\n",
    "plt.figure(figsize=(5, 5))  # Adjust the figure size as needed\n",
    "\n",
    "barplot = sns.barplot(x=most_common_df['Word'],y=most_common_df['Count'],color=sns.color_palette()[2])\n",
    "\n",
    "# Rotate x-axis labels for better readability\n",
    "barplot.set_xticklabels(barplot.get_xticklabels(), rotation=45, horizontalalignment='right')\n",
    "\n",
    "# Set plot title and axis labels\n",
    "plt.title(f'Top {n} Most Common Words of Reviews Above 4.5')\n",
    "plt.xlabel('Word')\n",
    "plt.ylabel('Frequency')\n",
    "\n",
    "# Show the plot\n",
    "plt.tight_layout()\n",
    "plt.savefig('words_above.png')\n",
    "plt.show()"
   ]
  },
  {
   "cell_type": "code",
   "execution_count": 26,
   "id": "aab2af29-7795-479d-bf5a-cf90b17a934f",
   "metadata": {
    "tags": []
   },
   "outputs": [],
   "source": [
    "## Comparing most common words in reviews of properties with a overall review score under 3 and above 4.\n",
    "\n",
    "## Properties with a score above 4.0 have 'stay','place', and 'great' as most common words, suggesting they had an overall great experience during their time at the property.\n",
    "## Other common words include location, clean, and host, suggesting the Airbnb was clean and well localized with a nice host.\n",
    "\n",
    "## On the other hand, properties with scores below 3.0 have 'host' as the most common word, well above second place. Other common words include arrival, reservation, and cancel.\n",
    "## All of this suggests these users had bad experiences interacting with the host, and had reservation issues involving cancelations."
   ]
  }
 ],
 "metadata": {
  "kernelspec": {
   "display_name": "Python 3 (ipykernel)",
   "language": "python",
   "name": "python3"
  },
  "language_info": {
   "codemirror_mode": {
    "name": "ipython",
    "version": 3
   },
   "file_extension": ".py",
   "mimetype": "text/x-python",
   "name": "python",
   "nbconvert_exporter": "python",
   "pygments_lexer": "ipython3",
   "version": "3.9.0"
  }
 },
 "nbformat": 4,
 "nbformat_minor": 5
}

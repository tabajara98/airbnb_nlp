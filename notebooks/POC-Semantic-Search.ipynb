{
 "cells": [
  {
   "cell_type": "code",
   "execution_count": null,
   "id": "6bf05043",
   "metadata": {},
   "outputs": [],
   "source": [
    "# Install this for the first time and then comment it out\n",
    "# !pip install sentence-transformers\n",
    "# !pip install scipy"
   ]
  },
  {
   "cell_type": "code",
   "execution_count": 4,
   "id": "90249e1b",
   "metadata": {},
   "outputs": [
    {
     "name": "stdout",
     "output_type": "stream",
     "text": [
      "Rank 1: Document: There's shockingly few places to stay near Woodinville wine country and none as nice as Rebecca's! Conflicting schedules meant we didn't meet live at check-in, but it was easy to get in and find our room. Breakfast was plentiful and varied. There was even a place to store our bikes overnight. Overall, a brief but great stay! - Cosine Similarity Score: 0.1775\n",
      "\n",
      "Rank 2: Document: The house is located in a unique location which is hidden and private. Every day during our stay we watched the tides come in and out. There was abundant wildlife in the cove (seals, birds and shellfish). The house has a charming 1920s feel with plenty of light and good outdoor/indoor transition. We will definitely visit again and highly recommend the house. - Cosine Similarity Score: 0.1290\n",
      "\n",
      "Rank 3: Document: This is the best home base for exploring the Seattle area. Like other reviewers, we also just wanted to spend time at the house as there was plenty to see and do! First of all, the views of the ever-changing Puget Sound are amazing. We were there in fall, so a bit chilly to swim, but the water is so clear. We took the kayaks out during sunset, and it was lovely. We saw plenty of seagulls, cranes, waterfowl, and even a seal bobbing around in the water one afternoon. It's also fun to watch the boats and huge ships go by. The house itself is cozy and clean. The little touches like coffee, snacks, books, and binoculars make this place stand out. Our 3-yr old daughter spent hours collecting sea glass. We ventured out to Mt. Rainier and Pike Place Market, but it was nice to have the little Three Tree Point store nearby for gourmet snacks, ice cream, and local wine. I hope we can come back - I already miss the peace we felt from just watching the water. Thanks so much! - Cosine Similarity Score: 0.0756\n",
      "\n"
     ]
    }
   ],
   "source": [
    "from sentence_transformers import SentenceTransformer, util\n",
    "import torch\n",
    "from sklearn.metrics.pairwise import cosine_similarity\n",
    "\n",
    "# Define your list of documents\n",
    "documents = [\n",
    "    \"The house is located in a unique location which is hidden and private. Every day during our stay we watched the tides come in and out. There was abundant wildlife in the cove (seals, birds and shellfish). The house has a charming 1920s feel with plenty of light and good outdoor/indoor transition. We will definitely visit again and highly recommend the house.\",\n",
    "    \"This is the best home base for exploring the Seattle area. Like other reviewers, we also just wanted to spend time at the house as there was plenty to see and do! First of all, the views of the ever-changing Puget Sound are amazing. We were there in fall, so a bit chilly to swim, but the water is so clear. We took the kayaks out during sunset, and it was lovely. We saw plenty of seagulls, cranes, waterfowl, and even a seal bobbing around in the water one afternoon. It's also fun to watch the boats and huge ships go by. The house itself is cozy and clean. The little touches like coffee, snacks, books, and binoculars make this place stand out. Our 3-yr old daughter spent hours collecting sea glass. We ventured out to Mt. Rainier and Pike Place Market, but it was nice to have the little Three Tree Point store nearby for gourmet snacks, ice cream, and local wine. I hope we can come back - I already miss the peace we felt from just watching the water. Thanks so much!\",\n",
    "    \"There's shockingly few places to stay near Woodinville wine country and none as nice as Rebecca's! Conflicting schedules meant we didn't meet live at check-in, but it was easy to get in and find our room. Breakfast was plentiful and varied. There was even a place to store our bikes overnight. Overall, a brief but great stay!\",\n",
    "]\n",
    "\n",
    "# Initialize SBERT model (You can choose a different pre-trained model if needed)\n",
    "model = SentenceTransformer('paraphrase-MiniLM-L6-v2')\n",
    "\n",
    "# Encode the documents into embeddings\n",
    "document_embeddings = model.encode(documents, convert_to_tensor=True)\n",
    "\n",
    "# Encode the query\n",
    "query = \"eggs and ham morning\"\n",
    "query_embedding = model.encode(query, convert_to_tensor=True)\n",
    "\n",
    "# Calculate cosine similarity between the query and documents\n",
    "# You can use the SentenceTransformer's util.pytorch_cos_sim() for faster computation\n",
    "cosine_scores = util.pytorch_cos_sim(query_embedding, document_embeddings)[0]\n",
    "\n",
    "# Sort and rank documents based on cosine similarity\n",
    "ranked_results = [(documents[i], cosine_scores[i].item()) for i in range(len(documents))]\n",
    "ranked_results = sorted(ranked_results, key=lambda x: x[1], reverse=True)\n",
    "\n",
    "# Print the ranked results\n",
    "for i, (doc, score) in enumerate(ranked_results):\n",
    "    print(f\"Rank {i+1}: Document: {doc} - Cosine Similarity Score: {score:.4f}\\n\")\n"
   ]
  },
  {
   "cell_type": "code",
   "execution_count": null,
   "id": "05df5753",
   "metadata": {},
   "outputs": [],
   "source": []
  }
 ],
 "metadata": {
  "kernelspec": {
   "display_name": "Python 3 (ipykernel)",
   "language": "python",
   "name": "python3"
  },
  "language_info": {
   "codemirror_mode": {
    "name": "ipython",
    "version": 3
   },
   "file_extension": ".py",
   "mimetype": "text/x-python",
   "name": "python",
   "nbconvert_exporter": "python",
   "pygments_lexer": "ipython3",
   "version": "3.9.0"
  }
 },
 "nbformat": 4,
 "nbformat_minor": 5
}

{
 "cells": [
  {
   "cell_type": "code",
   "execution_count": 18,
   "id": "33499188-5b6a-44ec-8e78-45bc0819ff3b",
   "metadata": {},
   "outputs": [],
   "source": [
    "def semantic_search_airbnb(query):\n",
    "    \n",
    "    # Libraries\n",
    "    import string\n",
    "    import re\n",
    "    import nltk\n",
    "    from nltk.stem import PorterStemmer, WordNetLemmatizer\n",
    "    import pickle\n",
    "    import torch\n",
    "    import pandas as pd\n",
    "    from sentence_transformers import SentenceTransformer, util\n",
    "    \n",
    "    # Download nltk\n",
    "    nltk.download('stopwords') \n",
    "    nltk.download('wordnet')\n",
    "\n",
    "    ##\n",
    "    ## Cleaning\n",
    "    ##\n",
    "    \n",
    "    # Function to perform all cleaning steps\n",
    "    def clean_text(text):\n",
    "\n",
    "        # Remove punctuation\n",
    "        text = \"\".join([char for char in text if char not in string.punctuation])\n",
    "\n",
    "        # Lowercase the text\n",
    "        text = text.lower()\n",
    "\n",
    "        # Tokenization\n",
    "        tokens = re.split(r'\\W+', text)\n",
    "\n",
    "        # Remove stopwords\n",
    "        tokens = [word for word in tokens if word not in stopwords]\n",
    "\n",
    "        # Stemming\n",
    "        tokens = [porter_stemmer.stem(word) for word in tokens]\n",
    "\n",
    "        # Lemmatization\n",
    "        tokens = [wordnet_lemmatizer.lemmatize(word) for word in tokens]\n",
    "\n",
    "        return tokens\n",
    "\n",
    "    # Set of English stopwords\n",
    "    stopwords = set(nltk.corpus.stopwords.words('english'))\n",
    "\n",
    "    # Initialize stemmer and lemmatizer\n",
    "    porter_stemmer = PorterStemmer()\n",
    "    wordnet_lemmatizer = WordNetLemmatizer()\n",
    "    \n",
    "    ##\n",
    "    ## Semantic Search\n",
    "    ##\n",
    "    \n",
    "    # SBERT model name\n",
    "    model_name = 'multi-qa-MiniLM-L6-cos-v1'\n",
    "\n",
    "    # Initialize SBERT model\n",
    "    model = SentenceTransformer(model_name)\n",
    "\n",
    "    # Cached Embeddings Path (changes according to model)\n",
    "    embedding_cache_path = f'cache\\\\cached-embeddings-{model_name}_weighted_clean.pkl'\n",
    "\n",
    "    with open(embedding_cache_path, \"rb\") as fIn:\n",
    "            cache_data = pickle.load(fIn)\n",
    "    \n",
    "    # Create a weight tensor\n",
    "    weights = torch.tensor([0.5, 0.5])\n",
    "    embeddings = ['embeddings_host','embeddings_reviews']\n",
    "    corpus_embeddings = torch.zeros_like(cache_data[embeddings[0]])  # Initialize an empty tensor\n",
    "\n",
    "    for i, corpus in enumerate(embeddings):\n",
    "\n",
    "        # Weight the vectors with the specified weights\n",
    "        weighted_embeddings = cache_data[corpus] * weights[i]\n",
    "\n",
    "        # Add the weighted embeddings to the corpus_embeddings\n",
    "        corpus_embeddings += weighted_embeddings\n",
    "\n",
    "    # Encode the query\n",
    "    clean_query = pd.Series(query).apply(clean_text)\n",
    "    query_embedding = model.encode(query,show_progress_bar=True,convert_to_tensor=True)\n",
    "\n",
    "    top_k = 10\n",
    "    search_results = util.semantic_search(\n",
    "        query_embedding, corpus_embeddings, top_k=top_k\n",
    "    )\n",
    "\n",
    "    # Extract the indices of the most similar sentences\n",
    "    similar_indices = search_results[0][0:top_k]\n",
    "\n",
    "    # Extract the actual sentences\n",
    "    df_result = pd.DataFrame()\n",
    "    for col in ['name', 'description', 'listing_url', 'picture_url', 'price', 'neighbourhood']:\n",
    "        for indice in [similar_indices[i]['corpus_id'] for i in range(len(similar_indices))]:\n",
    "            df_result.loc[indice,col] = cache_data[col][indice]\n",
    "    df_result['score'] = [item['score'] for item in similar_indices]\n",
    "    df_result.rename(\n",
    "        columns={'listing_url':'link','picture_url':'photo','neighbourhood':'location'},\n",
    "        inplace=True\n",
    "    )\n",
    "    df_result['starRating'] = 0\n",
    "\n",
    "    return df_result"
   ]
  },
  {
   "cell_type": "code",
   "execution_count": 21,
   "id": "7f2dd024-e559-445c-9972-96b1e038b093",
   "metadata": {},
   "outputs": [
    {
     "name": "stderr",
     "output_type": "stream",
     "text": [
      "[nltk_data] Downloading package stopwords to\n",
      "[nltk_data]     C:\\Users\\anton\\AppData\\Roaming\\nltk_data...\n",
      "[nltk_data]   Package stopwords is already up-to-date!\n",
      "[nltk_data] Downloading package wordnet to\n",
      "[nltk_data]     C:\\Users\\anton\\AppData\\Roaming\\nltk_data...\n",
      "[nltk_data]   Package wordnet is already up-to-date!\n"
     ]
    },
    {
     "data": {
      "application/vnd.jupyter.widget-view+json": {
       "model_id": "062f64c27ae8446f88ca839417490553",
       "version_major": 2,
       "version_minor": 0
      },
      "text/plain": [
       "Batches:   0%|          | 0/1 [00:00<?, ?it/s]"
      ]
     },
     "metadata": {},
     "output_type": "display_data"
    }
   ],
   "source": [
    "df = semantic_search_airbnb('cozy cabin')"
   ]
  },
  {
   "cell_type": "code",
   "execution_count": 42,
   "id": "5013a2f2-716d-460f-b831-15e0cded768c",
   "metadata": {},
   "outputs": [
    {
     "data": {
      "text/plain": [
       "'{\"name\":\"Rental unit in Santa Monica \\\\u00b7 1 bedroom \\\\u00b7 2 beds \\\\u00b7 1 bath\",\"description\":\"Our fully furnished modern one bedroom apartment located in the heart of Venice Beach\\\\/Santa Monica . Our newly renovated space offers a wide range of accommodations to ensure you have a comfortable stay. <br \\\\/>The apartment features a full kitchen, allowing you to prepare your own meals and snacks during your stay. The in-suite washer and dryer <br \\\\/>Relax in the comfort of your own private space, complete with a full bathroom and all the amenities you need to feel at home<br \\\\/><br \\\\/><b>The space<\\\\/b><br \\\\/>Our fully furnished one-bedroom apartment, designed with your comfort in mind. Our space offers many accommodations to ensure you have a relaxing stay. <br \\\\/><br \\\\/>The living room features a flat screen TV and a comfortable new couch\\\\/sofa-bed for you to lounge on. The full kitchen is equipped with everything you need, including a microwave, stove, fridge, and more. <br \\\\/><br \\\\/>Relax on the sofa while watching your favorite shows on the flat screen TV, and enjoy the cool air conditioni\",\"link\":\"https:\\\\/\\\\/www.airbnb.com\\\\/rooms\\\\/918806784347812200\",\"photo\":\"https:\\\\/\\\\/a0.muscache.com\\\\/pictures\\\\/miso\\\\/Hosting-918806784347812200\\\\/original\\\\/9cf1f50a-57a0-4577-92fb-c15f243f50b5.jpeg\",\"price\":\"$192.00\",\"location\":\"Santa Monica, California, United States\",\"score\":0.6770176888,\"starRating\":0},{\"name\":\"Rental unit in el monte \\\\u00b7 2 bedrooms \\\\u00b7 1 bed \\\\u00b7 1 shared bath\",\"description\":null,\"link\":\"https:\\\\/\\\\/www.airbnb.com\\\\/rooms\\\\/29716496\",\"photo\":\"https:\\\\/\\\\/a0.muscache.com\\\\/pictures\\\\/76bedd80-f0d2-43e5-a701-c42b2df693c2.jpg\",\"price\":\"$40.00\",\"location\":null,\"score\":0.6580455303,\"starRating\":0},{\"name\":\"Place to stay in Hacienda Heights \\\\u00b7 \\\\u26054.87 \\\\u00b7 1 bedroom \\\\u00b7 1 bed \\\\u00b7 1.5 shared baths\",\"description\":\"Since our airbnb is in high demand, we are providing this listing for guests to connect and book a personal sleeping space with a curtain as an entrance and\\\\/or Shoji panels.  Our spaces are very personal to each guest.<br \\\\/><br \\\\/>Keeping it simple and safe at our quiet, peaceful and centrally located place.<br \\\\/><br \\\\/>For all locals and non-locals. We have the best vibe in the area. We require a safe, quiet and peaceful atmosphere. We listen and care about your stay.<br \\\\/><br \\\\/><b>The space<\\\\/b><br \\\\/>* No smoking, No Vaping, No Drugs<br \\\\/>* Drink responsibly so as not to bother other guests<br \\\\/><br \\\\/>Our home is quiet.  It remains peaceful throughout the day and night. <br \\\\/><br \\\\/>The bed can be a Twin size bed or Sofa.  The personal space can have an entrance with a curtain or and entrance with panels. The mattresses have zipper protective covers. This protects the mattress and protects the guest. The mattress is layered with a clean quilted fitted mattress cover, a clean fitted sheet\",\"link\":\"https:\\\\/\\\\/www.airbnb.com\\\\/rooms\\\\/729949246865083342\",\"photo\":\"https:\\\\/\\\\/a0.muscache.com\\\\/pictures\\\\/miso\\\\/Hosting-729949246865083342\\\\/original\\\\/4a18d060-458e-48b3-9990-db4e5252d1be.png\",\"price\":\"$39.00\",\"location\":\"Hacienda Heights, California, United States\",\"score\":0.6578938961,\"starRating\":0},{\"name\":\"Tiny home in West Covina \\\\u00b7 1 bedroom \\\\u00b7 1 bed \\\\u00b7 1 shared bath\",\"description\":\"Fully furnished and decorated, near 10fwy, Wal-Mart and 7 eleven.\",\"link\":\"https:\\\\/\\\\/www.airbnb.com\\\\/rooms\\\\/28421115\",\"photo\":\"https:\\\\/\\\\/a0.muscache.com\\\\/pictures\\\\/f1ddca93-9d41-4930-a4de-79d92a38f0a2.jpg\",\"price\":\"$86.00\",\"location\":null,\"score\":0.656475246,\"starRating\":0},{\"name\":\"Campsite in Acton \\\\u00b7 1 bedroom \\\\u00b7 3 beds \\\\u00b7 1 bath\",\"description\":\"Cozy Cabin in a rustic setting. This cabin has a twin sized bunk bed and Queen bed that will perfectly sleep 4. Linens are included. Security Deposit Required ($100). Minimum of 2 nights is required. If you only want 1 night, an additional $50 is charged for cleaning.  Gas grill, propane provided. Partial kitchen (mini fridge, microwave, coffee maker, sink). No pets allowed inside cabin. Wifi is not guaranteed due to cabin located in mountainous area.\",\"link\":\"https:\\\\/\\\\/www.airbnb.com\\\\/rooms\\\\/705850038171535162\",\"photo\":\"https:\\\\/\\\\/a0.muscache.com\\\\/pictures\\\\/miso\\\\/Hosting-705850038171535162\\\\/original\\\\/22a1b484-47b5-4219-b5e0-8a1620d79903.jpeg\",\"price\":\"$163.00\",\"location\":null,\"score\":0.6557136178,\"starRating\":0},{\"name\":\"Home in Compton \\\\u00b7 \\\\u2605New \\\\u00b7 3 bedrooms \\\\u00b7 3 beds \\\\u00b7 1 bath\",\"description\":\"Welcome to White Heaven House, a charming retreat combining comfort, style, and convenience.<br \\\\/><br \\\\/><b>The space<\\\\/b><br \\\\/>Your Awesome Home Away from Home: Prepare to be blown away by the awesomeness of White Heaven House ! We\\'ve got not one, not two, but three beautifully appointed bedrooms and a cozy bathroom, we\\'ve got you covered.<br \\\\/><br \\\\/>Sleeping Arrangements:Master Bedroom: It\\'s the ultimate sleep sanctuary with a queen-size bed that\\'ll make you feel like royalty.Second Bedroom: Snuggle up in this cozy den, complete with a comfortable also a queen-size bed that\\'s perfect for recharging your adventurous spirit.Third Bedroom: We\\'ve got you covered with a chill space featuring a one twin bed, giving you all the good vibes you need.<br \\\\/><br \\\\/>Let the Good Times Roll in the Bathroom: Our bathroom is here to pamper you with its inviting ambiance. It\\'s a place where you can indulge in some self-care rituals and take a refreshing shower. We\\'ve got fluffy towels, toiletries, and a\",\"link\":\"https:\\\\/\\\\/www.airbnb.com\\\\/rooms\\\\/949565262425031762\",\"photo\":\"https:\\\\/\\\\/a0.muscache.com\\\\/pictures\\\\/miso\\\\/Hosting-949565262425031762\\\\/original\\\\/62ef908f-54c9-400f-b7ca-93753aba4b3d.jpeg\",\"price\":\"$263.00\",\"location\":null,\"score\":0.6419914365,\"starRating\":0},{\"name\":\"Campsite in Acton \\\\u00b7 \\\\u26054.0 \\\\u00b7 2 bedrooms \\\\u00b7 3 beds \\\\u00b7 1 bath\",\"description\":\"Get away from city and  stay under the stars. Security Deposit Required ($100). Minimum of 2 nights is required. If you only want 1 night, an additional $50 is charged for cleaning. Gas grill, propane provided. Partial kitchen (mini fridge, microwave, coffee maker, sink). No pets allowed inside cabin. Wifi is not guaranteed due to cabin located in mountainous area.\",\"link\":\"https:\\\\/\\\\/www.airbnb.com\\\\/rooms\\\\/723339505423377172\",\"photo\":\"https:\\\\/\\\\/a0.muscache.com\\\\/pictures\\\\/miso\\\\/Hosting-723339505423377172\\\\/original\\\\/839ab0f9-80c9-40db-bf07-0ae0c1e86909.jpeg\",\"price\":\"$195.00\",\"location\":null,\"score\":0.6266180873,\"starRating\":0},{\"name\":\"Tiny home in Whittier \\\\u00b7 \\\\u26054.81 \\\\u00b7 1 bed \\\\u00b7 1 bath\",\"description\":\"Experience Tiny Home and Cottagecore living set in a private and gated backyard with nearby amenities!<br \\\\/>Convenience store just steps away along with grocery stores, shopping, hospital, Laundromat, bars and restaurants within a 5-15 minute drive or have everything delivered! Please be aware that it\\'s a twin bed and sleeps one person comfortably, but can sleep 2 if you are very fond of your travel companion. If this is a little too small, please see our other listings available in the same area.<br \\\\/><br \\\\/><b>The space<\\\\/b><br \\\\/>When we say tiny we mean it! Only 125sq.ft, but the little place is packed with tons personality. Fold down desk to use as work area or for eating.  It has much of what you need when traveling, but if you need something more please don\\'t hesitate to ask! Our goal is to provide you with a great, memorable and unique experience. If you are a minimalist and like tiny spaces this is definitely the place for you!<br \\\\/><br \\\\/><b>Guest access<\\\\/b><br \\\\/>Guests have acce\",\"link\":\"https:\\\\/\\\\/www.airbnb.com\\\\/rooms\\\\/21216878\",\"photo\":\"https:\\\\/\\\\/a0.muscache.com\\\\/pictures\\\\/e2b2abd7-dfd3-410c-bf60-0e6127cb92e9.jpg\",\"price\":\"$82.00\",\"location\":\"Whittier, California, United States\",\"score\":0.6216729283,\"starRating\":0},{\"name\":\"Rental unit in Los Angeles \\\\u00b7 \\\\u26053.67 \\\\u00b7 1 bedroom \\\\u00b7 2 beds \\\\u00b7 1 private bath\",\"description\":\"Cozy one bedroom one bathroom apartment located in the middle of Los Angeles, 10 minutes from Downtown, West Hollywood, Melrose, FairFax and The Groove. Includes view of The Hollywood Sign.<br \\\\/><br \\\\/><b>The space<\\\\/b><br \\\\/>I\\'ll be meeting all my guest and giving them a quick run down to make their stay the most comfortable.<br \\\\/><br \\\\/><b>Guest access<\\\\/b><br \\\\/>All spaces are available for access.<br \\\\/><br \\\\/><b>During your stay<\\\\/b><br \\\\/>Im available most of the day for any questions guest you may have.\",\"link\":\"https:\\\\/\\\\/www.airbnb.com\\\\/rooms\\\\/40211377\",\"photo\":\"https:\\\\/\\\\/a0.muscache.com\\\\/pictures\\\\/c52c3743-89d8-422d-8ae9-dd9b36c94b0e.jpg\",\"price\":\"$95.00\",\"location\":\"Los Angeles, California, United States\",\"score\":0.6193523407,\"starRating\":0},{\"name\":\"Cabin in Los Angeles \\\\u00b7 \\\\u26054.89 \\\\u00b7 1 bedroom \\\\u00b7 1 bed \\\\u00b7 1.5 baths\",\"description\":\"Welcome to a charming, rustic, cozy & peaceful cabin in Beachwood Canyon with Sauna, Cedar hot tub and outdoor shower. A perfect spa getaway minutes away all the Hollywood action, tugged away in the silence of nature. Walking distance to Beachwood Village where you can enjoy breakfast & lunch from Beachwood Cafe or go on a beautiful hike. Come relax and recharge!<br \\\\/><br \\\\/><b>The space<\\\\/b><br \\\\/>Small, cozy cabin with original 1920s wood floors and beam ceilings.  1 bedroom, 1.5 bath.  All new appliances.\",\"link\":\"https:\\\\/\\\\/www.airbnb.com\\\\/rooms\\\\/30882750\",\"photo\":\"https:\\\\/\\\\/a0.muscache.com\\\\/pictures\\\\/miso\\\\/Hosting-30882750\\\\/original\\\\/745ad793-f5da-45d5-90cf-a465c5819320.jpeg\",\"price\":\"$251.00\",\"location\":\"Los Angeles, California, United States\",\"score\":0.6156537533,\"starRating\":0}'"
      ]
     },
     "execution_count": 42,
     "metadata": {},
     "output_type": "execute_result"
    }
   ],
   "source": [
    "df.to_json(orient='records')[1:-1]"
   ]
  }
 ],
 "metadata": {
  "kernelspec": {
   "display_name": "Python 3 (ipykernel)",
   "language": "python",
   "name": "python3"
  },
  "language_info": {
   "codemirror_mode": {
    "name": "ipython",
    "version": 3
   },
   "file_extension": ".py",
   "mimetype": "text/x-python",
   "name": "python",
   "nbconvert_exporter": "python",
   "pygments_lexer": "ipython3",
   "version": "3.9.0"
  }
 },
 "nbformat": 4,
 "nbformat_minor": 5
}

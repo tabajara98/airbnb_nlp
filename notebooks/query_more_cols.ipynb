{
 "cells": [
  {
   "cell_type": "code",
   "execution_count": 20,
   "id": "33499188-5b6a-44ec-8e78-45bc0819ff3b",
   "metadata": {},
   "outputs": [],
   "source": [
    "def semantic_search_airbnb(query):\n",
    "    \n",
    "    # Libraries\n",
    "    import string\n",
    "    import re\n",
    "    import nltk\n",
    "    from nltk.stem import PorterStemmer, WordNetLemmatizer\n",
    "    import pickle\n",
    "    import torch\n",
    "    import pandas as pd\n",
    "    from sentence_transformers import SentenceTransformer, util\n",
    "    \n",
    "    # Download nltk\n",
    "    nltk.download('stopwords') \n",
    "    nltk.download('wordnet')\n",
    "\n",
    "    ##\n",
    "    ## Cleaning\n",
    "    ##\n",
    "    \n",
    "    # Function to perform all cleaning steps\n",
    "    def clean_text(text):\n",
    "\n",
    "        # Remove punctuation\n",
    "        text = \"\".join([char for char in text if char not in string.punctuation])\n",
    "\n",
    "        # Lowercase the text\n",
    "        text = text.lower()\n",
    "\n",
    "        # Tokenization\n",
    "        tokens = re.split(r'\\W+', text)\n",
    "\n",
    "        # Remove stopwords\n",
    "        tokens = [word for word in tokens if word not in stopwords]\n",
    "\n",
    "        # Stemming\n",
    "        tokens = [porter_stemmer.stem(word) for word in tokens]\n",
    "\n",
    "        # Lemmatization\n",
    "        tokens = [wordnet_lemmatizer.lemmatize(word) for word in tokens]\n",
    "\n",
    "        return tokens\n",
    "\n",
    "    # Set of English stopwords\n",
    "    stopwords = set(nltk.corpus.stopwords.words('english'))\n",
    "\n",
    "    # Initialize stemmer and lemmatizer\n",
    "    porter_stemmer = PorterStemmer()\n",
    "    wordnet_lemmatizer = WordNetLemmatizer()\n",
    "    \n",
    "    ##\n",
    "    ## Semantic Search\n",
    "    ##\n",
    "    \n",
    "    # SBERT model name\n",
    "    model_name = 'multi-qa-MiniLM-L6-cos-v1'\n",
    "\n",
    "    # Initialize SBERT model\n",
    "    model = SentenceTransformer(model_name)\n",
    "\n",
    "    # Cached Embeddings Path (changes according to model)\n",
    "    embedding_cache_path = f'cache\\\\cached-embeddings-{model_name}_weighted_clean.pkl'\n",
    "\n",
    "    with open(embedding_cache_path, \"rb\") as fIn:\n",
    "            cache_data = pickle.load(fIn)\n",
    "    \n",
    "    # Create a weight tensor\n",
    "    weights = torch.tensor([0.5, 0.5])\n",
    "    embeddings = ['embeddings_host','embeddings_reviews']\n",
    "    corpus_embeddings = torch.zeros_like(cache_data[embeddings[0]])  # Initialize an empty tensor\n",
    "\n",
    "    for i, corpus in enumerate(embeddings):\n",
    "\n",
    "        # Weight the vectors with the specified weights\n",
    "        weighted_embeddings = cache_data[corpus] * weights[i]\n",
    "\n",
    "        # Add the weighted embeddings to the corpus_embeddings\n",
    "        corpus_embeddings += weighted_embeddings\n",
    "\n",
    "    # Encode the query\n",
    "    clean_query = pd.Series(query).apply(clean_text)\n",
    "    query_embedding = model.encode(query,show_progress_bar=True,convert_to_tensor=True)\n",
    "\n",
    "    top_k = 10\n",
    "    search_results = util.semantic_search(\n",
    "        query_embedding, corpus_embeddings, top_k=top_k\n",
    "    )\n",
    "\n",
    "    # Extract the indices of the most similar sentences\n",
    "    similar_indices = search_results[0][0:top_k]\n",
    "\n",
    "    # Extract the actual sentences\n",
    "    df_result = pd.DataFrame()\n",
    "    for col in ['id', 'name', 'description', 'listing_url', 'picture_url', 'price', 'neighbourhood']:\n",
    "        for indice in [similar_indices[i]['corpus_id'] for i in range(len(similar_indices))]:\n",
    "            df_result.loc[indice,col] = cache_data[col][indice]\n",
    "    df_result['Score'] = [item['score'] for item in similar_indices]\n",
    "\n",
    "    return df_result.to_json()"
   ]
  },
  {
   "cell_type": "code",
   "execution_count": 21,
   "id": "7f2dd024-e559-445c-9972-96b1e038b093",
   "metadata": {},
   "outputs": [
    {
     "name": "stderr",
     "output_type": "stream",
     "text": [
      "[nltk_data] Downloading package stopwords to\n",
      "[nltk_data]     C:\\Users\\anton\\AppData\\Roaming\\nltk_data...\n",
      "[nltk_data]   Package stopwords is already up-to-date!\n",
      "[nltk_data] Downloading package wordnet to\n",
      "[nltk_data]     C:\\Users\\anton\\AppData\\Roaming\\nltk_data...\n",
      "[nltk_data]   Package wordnet is already up-to-date!\n"
     ]
    },
    {
     "data": {
      "application/vnd.jupyter.widget-view+json": {
       "model_id": "3ca6a22c893344eabc765fdb549b6515",
       "version_major": 2,
       "version_minor": 0
      },
      "text/plain": [
       "Batches:   0%|          | 0/1 [00:00<?, ?it/s]"
      ]
     },
     "metadata": {},
     "output_type": "display_data"
    }
   ],
   "source": [
    "df = semantic_search_airbnb('romantic cabin by the beach')"
   ]
  },
  {
   "cell_type": "code",
   "execution_count": 25,
   "id": "e79eee0f-762f-40a6-a49d-0f0877a506e1",
   "metadata": {},
   "outputs": [
    {
     "data": {
      "text/plain": [
       "'{\"id\":{\"28644\":44047433.0,\"32057\":7.346902248e+17,\"15639\":38890851.0,\"31616\":53852504.0,\"1464\":18433456.0,\"1671\":6.732050553e+17,\"18675\":30882750.0,\"17401\":45257193.0,\"3186\":3563679.0,\"15686\":38890624.0},\"name\":{\"28644\":\"Boutique hotel in Hermosa Beach \\\\u00b7 \\\\u26055.0 \\\\u00b7 1 bedroom \\\\u00b7 1 bed \\\\u00b7 1 private bath\",\"32057\":\"Home in Los Angeles \\\\u00b7 1 bedroom \\\\u00b7 1 bed \\\\u00b7 2 baths\",\"15639\":\"Bed and breakfast in Long Beach \\\\u00b7 \\\\u26054.83 \\\\u00b7 2 bedrooms \\\\u00b7 2 beds \\\\u00b7 1 private bath\",\"31616\":\"Boat in Long Beach \\\\u00b7 \\\\u26054.40 \\\\u00b7 2 bedrooms \\\\u00b7 3 beds \\\\u00b7 Half-bath\",\"1464\":\"Cottage in Malibu \\\\u00b7 \\\\u26054.95 \\\\u00b7 2 bedrooms \\\\u00b7 2 beds \\\\u00b7 1.5 baths\",\"1671\":\"Boat in Marina del Rey \\\\u00b7 \\\\u26054.92 \\\\u00b7 2 bedrooms \\\\u00b7 2 beds \\\\u00b7 1.5 baths\",\"18675\":\"Cabin in Los Angeles \\\\u00b7 \\\\u26054.89 \\\\u00b7 1 bedroom \\\\u00b7 1 bed \\\\u00b7 1.5 baths\",\"17401\":\"Nature lodge in Avalon \\\\u00b7 \\\\u26055.0 \\\\u00b7 12 beds \\\\u00b7 1 shared bath\",\"3186\":\"Rental unit in Malibu \\\\u00b7 \\\\u26054.99 \\\\u00b7 1 bedroom \\\\u00b7 1 bed \\\\u00b7 1 bath\",\"15686\":\"Bed and breakfast in Long Beach \\\\u00b7 \\\\u26055.0 \\\\u00b7 2 bedrooms \\\\u00b7 2 beds \\\\u00b7 2 baths\"},\"description\":{\"28644\":\"The Ocean View Pacific King is a place where you\\'ll create experiences that will resonate in your memory for the rest of your life. Nothing spending time on the balcony enjoying breathtaking views of the ocean. You\\'ll smile immediately while the ocean breeze fills the room and the sound of the waves fill your ears. The suite features a plush king size bed and modern bathroom with heated floors.<br \\\\/><br \\\\/><b>The space<\\\\/b><br \\\\/>The room is located within the completely remodeled Sea Sprite Hotel. You can expect fresh towels, toiletries, and other amenities offered by the hotel during your stay.<br \\\\/><br \\\\/><b>Guest access<\\\\/b><br \\\\/>Guests can access their private room\\\\/suite and the common patio\\\\/sundeck areas open to all hotel guests until 10:00 PM.\",\"32057\":\"Kick back and relax with your special person in this calm, stylish space.<br \\\\/><br \\\\/><b>The space<\\\\/b><br \\\\/>Enjoy direct views of the beach and ocean from a sun-filled primary bedroom with private balcony. The home also features a large kitchen, music room, living room and gorgeous ocean view room.<br \\\\/><br \\\\/><b>Guest access<\\\\/b><br \\\\/>You\\'ll have access to all the primary suite, kitchen, music room, living room, ocean view room and all three bathrooms. <br \\\\/><br \\\\/>Please note that this listing ONLY for two people. If you have additional people in your group and\\\\/or wish to have access to additional bedrooms and the sundeck, you may do so through our other listing. Thank you!<br \\\\/><br \\\\/><b>Registration number<\\\\/b><br \\\\/>HSR22-000879\",\"15639\":\"Sleep on your own private yacht for the night. Awaken to the sound of the waves lapping on the hull.  Enjoy one of over 20 restaurants within walking distance and all that the Long Beach Waterfront has to offer!<br \\\\/><br \\\\/><b>The space<\\\\/b><br \\\\/>This sharp,  37\\' Sea Ray, is clean, efficient and perfect for a romantic night for two. <br \\\\/> <br \\\\/>The  master bedroom has a very comfortable queen size bed with memory foam  topper to ensure a wonderful night\\'s sleep. It also has a TV\\\\/DVD player  to allow watching your favorite movie in bed. <br \\\\/> <br \\\\/>There  is one bathroom on board, that is small but has shower, toilet and  sink.  The second bedroom can either sleep one adult or two small  children or provide extra storage for your luggage. <br \\\\/> <br \\\\/>Off  the bedrooms is the small galley with refrigerator, coffee maker, toaster and microwave.  Like all of our yachts, we have appointed it with wine and champagne  stemware\\\\/juice\\\\/cocktail glasses, plates and silverware. <br \\\\/> <br \\\\/>The s\",\"31616\":\"The boat is at marina is a luxury yacht that\\\\u2019s perfect for a vacation right on the water. Whether you are looking for a calm vacation full of sun and surf or want to see all the fun that LA has to offer while staying in luxurious accommodations, The Boat at Marina is perfect for you!\",\"1464\":\"Stay at our newly listed \\\\\"Bu \\\\\"Seaside Cabin\\\\\". We recently restored this 2 bedroom, 1.5 bath 1970\\'s vintage Malibu mobile home unit into a seaside and nature lovers escape! Enjoy the best of Malibu\\'s beaches and mountains from this sweet spot.<br \\\\/><br \\\\/>Note: please read house rules in detail before booking. Booking a reservation means you will respect the rules of staying at this property.<br \\\\/><br \\\\/><b>The space<\\\\/b><br \\\\/>Stay at an historic \\\\\"old malibu\\\\\" resort property. Enjoy tennis and private hiking trails on this 100 acre private retreat. The beach is a short walk across PCH. Or just relax on your private porch and watch the waves. 80% of airbnb proceeds go directly back to support restoration projects and natural habitat preservation efforts of the non profit land trust that owns this treasured property.<br \\\\/><br \\\\/><b>Guest access<\\\\/b><br \\\\/>Entire unit, private hiking trails, sycamore groves and tennis courts.<br \\\\/><br \\\\/><b>Registration number<\\\\/b><br \\\\/>Exempt\",\"1671\":\"A beautiful yacht located in Marina del Ray, walking distance to the beach, restaurants, 6.7 miles from Los Angeles International Airport and 3.9 miles from Santa Monica. It consists of two bedrooms and two bathrooms, it has a shower cubicle, and you can enjoy the view with a coffee on the back deck terrace.<br \\\\/><br \\\\/><b>The space<\\\\/b><br \\\\/>The Yacht is 40\\\\u2018. There are two bedrooms with 1.5 bathrooms.You can get up early and have breakfast on the back deck while watching the sunrise over the sea and walk to the beach during the day to splash around, and back on the boat to start your romantic dinner at sunset after a shower. Stay at this romantic and memorable listing for an unforgettable time.<br \\\\/><br \\\\/><b>Guest access<\\\\/b><br \\\\/>Please inform us 2 hours before arrival and we will have everything ready to welcome you. Contact us 5 minutes before arriving at the car park and inform you of your license plate number. We will wait at the entrance of the parking lot to provide you with a par\",\"18675\":\"Welcome to a charming, rustic, cozy & peaceful cabin in Beachwood Canyon with Sauna, Cedar hot tub and outdoor shower. A perfect spa getaway minutes away all the Hollywood action, tugged away in the silence of nature. Walking distance to Beachwood Village where you can enjoy breakfast & lunch from Beachwood Cafe or go on a beautiful hike. Come relax and recharge!<br \\\\/><br \\\\/><b>The space<\\\\/b><br \\\\/>Small, cozy cabin with original 1920s wood floors and beam ceilings.  1 bedroom, 1.5 bath.  All new appliances.\",\"17401\":\"Our Mash tents provide you with the basics. You will have a large tent cabin that sleeps up 12-14 people, 6 or 7 bunk beds w\\\\/mattresses. Your tent is walking distance to the beach and the camp store. We have bathroom and shower facilities. Bring a fitted sheet, a sleeping bag, and toiletries. At night when all is quiet, gaze up at the stars, listen to the waves crashing on the beach. Remember you are now on island time!<br \\\\/><br \\\\/><b>The space<\\\\/b><br \\\\/>Whites Landing is a secluded cove 3 miles east of Avalon or a 40 minute interior drive.<br \\\\/><br \\\\/>Rustic yet clean bathroom and shower facilities. Water, coffee and a shared refrigerator and camp store for your convenience.  <br \\\\/>Kayaking, snorkeling, and hiking tours available for rent;<br \\\\/><br \\\\/>Transportation to camp in not included in the accommodation price and will need to be reserved directly after your accommodations are secured.<br \\\\/>Transportation time vary by time of year. Please DM us on Airbnb for current times <br \\\\/><br \",\"3186\":\"Fall asleep to the sound of ocean waves in this charming beachfront apartment. The light, airy home features open-plan living and a wall of windows to maximize the amazing views. Enjoy drinks on the deck and a sunset over the water\\\\u2014it\\'s pure bliss.<br \\\\/><br \\\\/>This beachfront apartment is right above the sand and surf.  At night the sounds of the sea will lull you to sleep.  During the day, you can watch the sea lions sunning on the rocks and dolphins and whales swimming by or go for a walk along the water\\'s edge and dive in yourself.  This is an amazing place to have a glass of wine and watch the sunset and relax!  In the evening, the lights of the \\\\\"Queen\\'s Necklace\\\\\" glimmer in the distance and the moonlight shines on the water.  <br \\\\/>The living room is cozy with two loveseats to snuggle in and watch a movie on the 50\\\\\" flat screen TV.  Three large sliding glass doors open up if you want to let the ocean breezes blow through.  <br \\\\/>The kitchen is small but fully equipped with an apart\",\"15686\":\"Sleep on your own private yacht for the night. Awaken to the sound of the waves lapping on the hull. Enjoy one of over 20 restaurants within walking distance and all that the Long Beach Waterfront has to offer!<br \\\\/><br \\\\/><b>The space<\\\\/b><br \\\\/>A 47\\' Bayliner motoryacht with a spacious and comfortable interior located on the end of our dock with spectacular 180 degree views.  Upon entering thru the pilothouse with it\\'s own intimate seating area, you have an abundance of large windows to enjoy the panoramic views of the marina.  A few steps down is the full beam salon with a large sectional couch,  wet bar with ice maker and 32\\\\\" Smart TV with DirectTV with an open galley with 3\\\\/4 size fridge\\\\/freezer, microwave, coffee maker and toaster.   <br \\\\/> <br \\\\/> <br \\\\/>Midship is the guest stateroom with a full size bed.  This room is cozy and recommended for 1 guest, but can accommodate 2.   The guest bathroom with shower is across the hall.   <br \\\\/> <br \\\\/> <br \\\\/>The master stateroom is located in\"},\"listing_url\":{\"28644\":\"https:\\\\/\\\\/www.airbnb.com\\\\/rooms\\\\/44047433\",\"32057\":\"https:\\\\/\\\\/www.airbnb.com\\\\/rooms\\\\/734690224784390246\",\"15639\":\"https:\\\\/\\\\/www.airbnb.com\\\\/rooms\\\\/38890851\",\"31616\":\"https:\\\\/\\\\/www.airbnb.com\\\\/rooms\\\\/53852504\",\"1464\":\"https:\\\\/\\\\/www.airbnb.com\\\\/rooms\\\\/18433456\",\"1671\":\"https:\\\\/\\\\/www.airbnb.com\\\\/rooms\\\\/673205055256289539\",\"18675\":\"https:\\\\/\\\\/www.airbnb.com\\\\/rooms\\\\/30882750\",\"17401\":\"https:\\\\/\\\\/www.airbnb.com\\\\/rooms\\\\/45257193\",\"3186\":\"https:\\\\/\\\\/www.airbnb.com\\\\/rooms\\\\/3563679\",\"15686\":\"https:\\\\/\\\\/www.airbnb.com\\\\/rooms\\\\/38890624\"},\"picture_url\":{\"28644\":\"https:\\\\/\\\\/a0.muscache.com\\\\/pictures\\\\/7f572725-8ee8-4f43-9f92-0bac3765a947.jpg\",\"32057\":\"https:\\\\/\\\\/a0.muscache.com\\\\/pictures\\\\/miso\\\\/Hosting-559455033591446898\\\\/original\\\\/54b7186e-4cf1-4356-a04a-a332cbb6b323.jpeg\",\"15639\":\"https:\\\\/\\\\/a0.muscache.com\\\\/pictures\\\\/ca4f83ce-a0a1-4922-9c26-c55e04f3e9ae.jpg\",\"31616\":\"https:\\\\/\\\\/a0.muscache.com\\\\/pictures\\\\/miso\\\\/Hosting-53852504\\\\/original\\\\/51a8c898-6263-4404-a88b-9228630de9f9.jpeg\",\"1464\":\"https:\\\\/\\\\/a0.muscache.com\\\\/pictures\\\\/b8148fd4-0b15-4051-b5cd-fa054bb046b3.jpg\",\"1671\":\"https:\\\\/\\\\/a0.muscache.com\\\\/pictures\\\\/miso\\\\/Hosting-673205055256289539\\\\/original\\\\/a996c817-4a56-466e-bffa-a600b5cf53c4.jpeg\",\"18675\":\"https:\\\\/\\\\/a0.muscache.com\\\\/pictures\\\\/miso\\\\/Hosting-30882750\\\\/original\\\\/745ad793-f5da-45d5-90cf-a465c5819320.jpeg\",\"17401\":\"https:\\\\/\\\\/a0.muscache.com\\\\/pictures\\\\/f9c0763e-9446-4d85-87b1-3a14cfab7cf3.jpg\",\"3186\":\"https:\\\\/\\\\/a0.muscache.com\\\\/pictures\\\\/monet\\\\/Select-3563679\\\\/original\\\\/4941419e-ae6e-41bc-95ba-a1e4256adbbe\",\"15686\":\"https:\\\\/\\\\/a0.muscache.com\\\\/pictures\\\\/8adfcd09-7a8e-4fec-b1f9-fd2a9cd07e52.jpg\"},\"price\":{\"28644\":\"$373.00\",\"32057\":\"$2,000.00\",\"15639\":\"$318.00\",\"31616\":\"$285.00\",\"1464\":\"$159.00\",\"1671\":\"$319.00\",\"18675\":\"$251.00\",\"17401\":\"$120.00\",\"3186\":\"$643.00\",\"15686\":\"$412.00\"},\"neighbourhood\":{\"28644\":\"Hermosa Beach, California, United States\",\"32057\":null,\"15639\":null,\"31616\":null,\"1464\":\"Malibu, California, United States\",\"1671\":null,\"18675\":\"Los Angeles, California, United States\",\"17401\":null,\"3186\":\"Malibu, California, United States\",\"15686\":null},\"Score\":{\"28644\":0.6584169865,\"32057\":0.6488415599,\"15639\":0.6446088552,\"31616\":0.6376740932,\"1464\":0.6287639141,\"1671\":0.6262114644,\"18675\":0.6243234873,\"17401\":0.6175996661,\"3186\":0.6161619425,\"15686\":0.6156697273}}'"
      ]
     },
     "execution_count": 25,
     "metadata": {},
     "output_type": "execute_result"
    }
   ],
   "source": [
    "df"
   ]
  }
 ],
 "metadata": {
  "kernelspec": {
   "display_name": "Python 3 (ipykernel)",
   "language": "python",
   "name": "python3"
  },
  "language_info": {
   "codemirror_mode": {
    "name": "ipython",
    "version": 3
   },
   "file_extension": ".py",
   "mimetype": "text/x-python",
   "name": "python",
   "nbconvert_exporter": "python",
   "pygments_lexer": "ipython3",
   "version": "3.9.0"
  }
 },
 "nbformat": 4,
 "nbformat_minor": 5
}
